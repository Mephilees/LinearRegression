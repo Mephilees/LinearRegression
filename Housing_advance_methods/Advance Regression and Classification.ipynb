{
 "cells": [
  {
   "cell_type": "markdown",
   "metadata": {},
   "source": [
    "# Advance Regression and Classification"
   ]
  },
  {
   "cell_type": "markdown",
   "metadata": {},
   "source": [
    "The data is taken from here: https://www.kaggle.com/c/dsi-regression/data\n",
    "\n",
    "Both the regression and classification had the same data."
   ]
  },
  {
   "cell_type": "code",
   "execution_count": 1,
   "metadata": {},
   "outputs": [],
   "source": [
    "#importing the libraries\n",
    "import numpy as np\n",
    "import scipy.stats as stats\n",
    "import seaborn as sns\n",
    "import matplotlib.pyplot as plt\n",
    "import pandas as pd\n",
    "\n",
    "plt.style.use('ggplot')\n",
    "pd.set_option('display.max_columns', 500)\n",
    "%config InlineBackend.figure_format = 'retina'\n",
    "%matplotlib inline"
   ]
  },
  {
   "cell_type": "code",
   "execution_count": 2,
   "metadata": {},
   "outputs": [],
   "source": [
    "# Load the train and test data\n",
    "df=pd.read_csv('./trainc.csv')\n",
    "test_data=pd.read_csv('./testc.csv')"
   ]
  },
  {
   "cell_type": "markdown",
   "metadata": {},
   "source": [
    "### EDA"
   ]
  },
  {
   "cell_type": "code",
   "execution_count": 3,
   "metadata": {},
   "outputs": [],
   "source": [
    "# taking out the spaces from the column names\n",
    "df.columns = df.columns.str.replace(' ', '')"
   ]
  },
  {
   "cell_type": "code",
   "execution_count": 4,
   "metadata": {},
   "outputs": [
    {
     "data": {
      "text/html": [
       "<div>\n",
       "<style scoped>\n",
       "    .dataframe tbody tr th:only-of-type {\n",
       "        vertical-align: middle;\n",
       "    }\n",
       "\n",
       "    .dataframe tbody tr th {\n",
       "        vertical-align: top;\n",
       "    }\n",
       "\n",
       "    .dataframe thead th {\n",
       "        text-align: right;\n",
       "    }\n",
       "</style>\n",
       "<table border=\"1\" class=\"dataframe\">\n",
       "  <thead>\n",
       "    <tr style=\"text-align: right;\">\n",
       "      <th></th>\n",
       "      <th>Id</th>\n",
       "      <th>PID</th>\n",
       "      <th>MSSubClass</th>\n",
       "      <th>MSZoning</th>\n",
       "      <th>LotFrontage</th>\n",
       "      <th>LotArea</th>\n",
       "      <th>Street</th>\n",
       "      <th>Alley</th>\n",
       "      <th>LotShape</th>\n",
       "      <th>LandContour</th>\n",
       "      <th>Utilities</th>\n",
       "      <th>LotConfig</th>\n",
       "      <th>LandSlope</th>\n",
       "      <th>Neighborhood</th>\n",
       "      <th>Condition1</th>\n",
       "      <th>Condition2</th>\n",
       "      <th>BldgType</th>\n",
       "      <th>HouseStyle</th>\n",
       "      <th>OverallQual</th>\n",
       "      <th>OverallCond</th>\n",
       "      <th>YearBuilt</th>\n",
       "      <th>YearRemod/Add</th>\n",
       "      <th>RoofStyle</th>\n",
       "      <th>RoofMatl</th>\n",
       "      <th>Exterior1st</th>\n",
       "      <th>Exterior2nd</th>\n",
       "      <th>MasVnrType</th>\n",
       "      <th>MasVnrArea</th>\n",
       "      <th>ExterQual</th>\n",
       "      <th>ExterCond</th>\n",
       "      <th>Foundation</th>\n",
       "      <th>BsmtQual</th>\n",
       "      <th>BsmtCond</th>\n",
       "      <th>BsmtExposure</th>\n",
       "      <th>BsmtFinType1</th>\n",
       "      <th>BsmtFinSF1</th>\n",
       "      <th>BsmtFinType2</th>\n",
       "      <th>BsmtFinSF2</th>\n",
       "      <th>BsmtUnfSF</th>\n",
       "      <th>TotalBsmtSF</th>\n",
       "      <th>Heating</th>\n",
       "      <th>HeatingQC</th>\n",
       "      <th>CentralAir</th>\n",
       "      <th>Electrical</th>\n",
       "      <th>1stFlrSF</th>\n",
       "      <th>2ndFlrSF</th>\n",
       "      <th>LowQualFinSF</th>\n",
       "      <th>GrLivArea</th>\n",
       "      <th>BsmtFullBath</th>\n",
       "      <th>BsmtHalfBath</th>\n",
       "      <th>FullBath</th>\n",
       "      <th>HalfBath</th>\n",
       "      <th>BedroomAbvGr</th>\n",
       "      <th>KitchenAbvGr</th>\n",
       "      <th>KitchenQual</th>\n",
       "      <th>TotRmsAbvGrd</th>\n",
       "      <th>Functional</th>\n",
       "      <th>Fireplaces</th>\n",
       "      <th>FireplaceQu</th>\n",
       "      <th>GarageType</th>\n",
       "      <th>GarageYrBlt</th>\n",
       "      <th>GarageFinish</th>\n",
       "      <th>GarageCars</th>\n",
       "      <th>GarageArea</th>\n",
       "      <th>GarageQual</th>\n",
       "      <th>GarageCond</th>\n",
       "      <th>PavedDrive</th>\n",
       "      <th>WoodDeckSF</th>\n",
       "      <th>OpenPorchSF</th>\n",
       "      <th>EnclosedPorch</th>\n",
       "      <th>3SsnPorch</th>\n",
       "      <th>ScreenPorch</th>\n",
       "      <th>PoolArea</th>\n",
       "      <th>PoolQC</th>\n",
       "      <th>Fence</th>\n",
       "      <th>MiscFeature</th>\n",
       "      <th>MiscVal</th>\n",
       "      <th>MoSold</th>\n",
       "      <th>YrSold</th>\n",
       "      <th>SaleType</th>\n",
       "      <th>SaleCondition</th>\n",
       "      <th>SalePrice</th>\n",
       "    </tr>\n",
       "  </thead>\n",
       "  <tbody>\n",
       "    <tr>\n",
       "      <th>0</th>\n",
       "      <td>109</td>\n",
       "      <td>533352170</td>\n",
       "      <td>60</td>\n",
       "      <td>RL</td>\n",
       "      <td>NaN</td>\n",
       "      <td>13517</td>\n",
       "      <td>Pave</td>\n",
       "      <td>NaN</td>\n",
       "      <td>IR1</td>\n",
       "      <td>Lvl</td>\n",
       "      <td>AllPub</td>\n",
       "      <td>CulDSac</td>\n",
       "      <td>Gtl</td>\n",
       "      <td>Sawyer</td>\n",
       "      <td>RRAe</td>\n",
       "      <td>Norm</td>\n",
       "      <td>1Fam</td>\n",
       "      <td>2Story</td>\n",
       "      <td>6</td>\n",
       "      <td>8</td>\n",
       "      <td>1976</td>\n",
       "      <td>2005</td>\n",
       "      <td>Gable</td>\n",
       "      <td>CompShg</td>\n",
       "      <td>HdBoard</td>\n",
       "      <td>Plywood</td>\n",
       "      <td>BrkFace</td>\n",
       "      <td>289.0</td>\n",
       "      <td>Gd</td>\n",
       "      <td>TA</td>\n",
       "      <td>CBlock</td>\n",
       "      <td>TA</td>\n",
       "      <td>TA</td>\n",
       "      <td>No</td>\n",
       "      <td>GLQ</td>\n",
       "      <td>533.0</td>\n",
       "      <td>Unf</td>\n",
       "      <td>0.0</td>\n",
       "      <td>192.0</td>\n",
       "      <td>725.0</td>\n",
       "      <td>GasA</td>\n",
       "      <td>Ex</td>\n",
       "      <td>Y</td>\n",
       "      <td>SBrkr</td>\n",
       "      <td>725</td>\n",
       "      <td>754</td>\n",
       "      <td>0</td>\n",
       "      <td>1479</td>\n",
       "      <td>0.0</td>\n",
       "      <td>0.0</td>\n",
       "      <td>2</td>\n",
       "      <td>1</td>\n",
       "      <td>3</td>\n",
       "      <td>1</td>\n",
       "      <td>Gd</td>\n",
       "      <td>6</td>\n",
       "      <td>Typ</td>\n",
       "      <td>0</td>\n",
       "      <td>NaN</td>\n",
       "      <td>Attchd</td>\n",
       "      <td>1976.0</td>\n",
       "      <td>RFn</td>\n",
       "      <td>2.0</td>\n",
       "      <td>475.0</td>\n",
       "      <td>TA</td>\n",
       "      <td>TA</td>\n",
       "      <td>Y</td>\n",
       "      <td>0</td>\n",
       "      <td>44</td>\n",
       "      <td>0</td>\n",
       "      <td>0</td>\n",
       "      <td>0</td>\n",
       "      <td>0</td>\n",
       "      <td>NaN</td>\n",
       "      <td>NaN</td>\n",
       "      <td>NaN</td>\n",
       "      <td>0</td>\n",
       "      <td>3</td>\n",
       "      <td>2010</td>\n",
       "      <td>WD</td>\n",
       "      <td>0</td>\n",
       "      <td>130500</td>\n",
       "    </tr>\n",
       "    <tr>\n",
       "      <th>1</th>\n",
       "      <td>544</td>\n",
       "      <td>531379050</td>\n",
       "      <td>60</td>\n",
       "      <td>RL</td>\n",
       "      <td>43.0</td>\n",
       "      <td>11492</td>\n",
       "      <td>Pave</td>\n",
       "      <td>NaN</td>\n",
       "      <td>IR1</td>\n",
       "      <td>Lvl</td>\n",
       "      <td>AllPub</td>\n",
       "      <td>CulDSac</td>\n",
       "      <td>Gtl</td>\n",
       "      <td>SawyerW</td>\n",
       "      <td>Norm</td>\n",
       "      <td>Norm</td>\n",
       "      <td>1Fam</td>\n",
       "      <td>2Story</td>\n",
       "      <td>7</td>\n",
       "      <td>5</td>\n",
       "      <td>1996</td>\n",
       "      <td>1997</td>\n",
       "      <td>Gable</td>\n",
       "      <td>CompShg</td>\n",
       "      <td>VinylSd</td>\n",
       "      <td>VinylSd</td>\n",
       "      <td>BrkFace</td>\n",
       "      <td>132.0</td>\n",
       "      <td>Gd</td>\n",
       "      <td>TA</td>\n",
       "      <td>PConc</td>\n",
       "      <td>Gd</td>\n",
       "      <td>TA</td>\n",
       "      <td>No</td>\n",
       "      <td>GLQ</td>\n",
       "      <td>637.0</td>\n",
       "      <td>Unf</td>\n",
       "      <td>0.0</td>\n",
       "      <td>276.0</td>\n",
       "      <td>913.0</td>\n",
       "      <td>GasA</td>\n",
       "      <td>Ex</td>\n",
       "      <td>Y</td>\n",
       "      <td>SBrkr</td>\n",
       "      <td>913</td>\n",
       "      <td>1209</td>\n",
       "      <td>0</td>\n",
       "      <td>2122</td>\n",
       "      <td>1.0</td>\n",
       "      <td>0.0</td>\n",
       "      <td>2</td>\n",
       "      <td>1</td>\n",
       "      <td>4</td>\n",
       "      <td>1</td>\n",
       "      <td>Gd</td>\n",
       "      <td>8</td>\n",
       "      <td>Typ</td>\n",
       "      <td>1</td>\n",
       "      <td>TA</td>\n",
       "      <td>Attchd</td>\n",
       "      <td>1997.0</td>\n",
       "      <td>RFn</td>\n",
       "      <td>2.0</td>\n",
       "      <td>559.0</td>\n",
       "      <td>TA</td>\n",
       "      <td>TA</td>\n",
       "      <td>Y</td>\n",
       "      <td>0</td>\n",
       "      <td>74</td>\n",
       "      <td>0</td>\n",
       "      <td>0</td>\n",
       "      <td>0</td>\n",
       "      <td>0</td>\n",
       "      <td>NaN</td>\n",
       "      <td>NaN</td>\n",
       "      <td>NaN</td>\n",
       "      <td>0</td>\n",
       "      <td>4</td>\n",
       "      <td>2009</td>\n",
       "      <td>WD</td>\n",
       "      <td>0</td>\n",
       "      <td>220000</td>\n",
       "    </tr>\n",
       "    <tr>\n",
       "      <th>2</th>\n",
       "      <td>153</td>\n",
       "      <td>535304180</td>\n",
       "      <td>20</td>\n",
       "      <td>RL</td>\n",
       "      <td>68.0</td>\n",
       "      <td>7922</td>\n",
       "      <td>Pave</td>\n",
       "      <td>NaN</td>\n",
       "      <td>Reg</td>\n",
       "      <td>Lvl</td>\n",
       "      <td>AllPub</td>\n",
       "      <td>Inside</td>\n",
       "      <td>Gtl</td>\n",
       "      <td>NAmes</td>\n",
       "      <td>Norm</td>\n",
       "      <td>Norm</td>\n",
       "      <td>1Fam</td>\n",
       "      <td>1Story</td>\n",
       "      <td>5</td>\n",
       "      <td>7</td>\n",
       "      <td>1953</td>\n",
       "      <td>2007</td>\n",
       "      <td>Gable</td>\n",
       "      <td>CompShg</td>\n",
       "      <td>VinylSd</td>\n",
       "      <td>VinylSd</td>\n",
       "      <td>None</td>\n",
       "      <td>0.0</td>\n",
       "      <td>TA</td>\n",
       "      <td>Gd</td>\n",
       "      <td>CBlock</td>\n",
       "      <td>TA</td>\n",
       "      <td>TA</td>\n",
       "      <td>No</td>\n",
       "      <td>GLQ</td>\n",
       "      <td>731.0</td>\n",
       "      <td>Unf</td>\n",
       "      <td>0.0</td>\n",
       "      <td>326.0</td>\n",
       "      <td>1057.0</td>\n",
       "      <td>GasA</td>\n",
       "      <td>TA</td>\n",
       "      <td>Y</td>\n",
       "      <td>SBrkr</td>\n",
       "      <td>1057</td>\n",
       "      <td>0</td>\n",
       "      <td>0</td>\n",
       "      <td>1057</td>\n",
       "      <td>1.0</td>\n",
       "      <td>0.0</td>\n",
       "      <td>1</td>\n",
       "      <td>0</td>\n",
       "      <td>3</td>\n",
       "      <td>1</td>\n",
       "      <td>Gd</td>\n",
       "      <td>5</td>\n",
       "      <td>Typ</td>\n",
       "      <td>0</td>\n",
       "      <td>NaN</td>\n",
       "      <td>Detchd</td>\n",
       "      <td>1953.0</td>\n",
       "      <td>Unf</td>\n",
       "      <td>1.0</td>\n",
       "      <td>246.0</td>\n",
       "      <td>TA</td>\n",
       "      <td>TA</td>\n",
       "      <td>Y</td>\n",
       "      <td>0</td>\n",
       "      <td>52</td>\n",
       "      <td>0</td>\n",
       "      <td>0</td>\n",
       "      <td>0</td>\n",
       "      <td>0</td>\n",
       "      <td>NaN</td>\n",
       "      <td>NaN</td>\n",
       "      <td>NaN</td>\n",
       "      <td>0</td>\n",
       "      <td>1</td>\n",
       "      <td>2010</td>\n",
       "      <td>WD</td>\n",
       "      <td>1</td>\n",
       "      <td>109000</td>\n",
       "    </tr>\n",
       "    <tr>\n",
       "      <th>3</th>\n",
       "      <td>318</td>\n",
       "      <td>916386060</td>\n",
       "      <td>60</td>\n",
       "      <td>RL</td>\n",
       "      <td>73.0</td>\n",
       "      <td>9802</td>\n",
       "      <td>Pave</td>\n",
       "      <td>NaN</td>\n",
       "      <td>Reg</td>\n",
       "      <td>Lvl</td>\n",
       "      <td>AllPub</td>\n",
       "      <td>Inside</td>\n",
       "      <td>Gtl</td>\n",
       "      <td>Timber</td>\n",
       "      <td>Norm</td>\n",
       "      <td>Norm</td>\n",
       "      <td>1Fam</td>\n",
       "      <td>2Story</td>\n",
       "      <td>5</td>\n",
       "      <td>5</td>\n",
       "      <td>2006</td>\n",
       "      <td>2007</td>\n",
       "      <td>Gable</td>\n",
       "      <td>CompShg</td>\n",
       "      <td>VinylSd</td>\n",
       "      <td>VinylSd</td>\n",
       "      <td>None</td>\n",
       "      <td>0.0</td>\n",
       "      <td>TA</td>\n",
       "      <td>TA</td>\n",
       "      <td>PConc</td>\n",
       "      <td>Gd</td>\n",
       "      <td>TA</td>\n",
       "      <td>No</td>\n",
       "      <td>Unf</td>\n",
       "      <td>0.0</td>\n",
       "      <td>Unf</td>\n",
       "      <td>0.0</td>\n",
       "      <td>384.0</td>\n",
       "      <td>384.0</td>\n",
       "      <td>GasA</td>\n",
       "      <td>Gd</td>\n",
       "      <td>Y</td>\n",
       "      <td>SBrkr</td>\n",
       "      <td>744</td>\n",
       "      <td>700</td>\n",
       "      <td>0</td>\n",
       "      <td>1444</td>\n",
       "      <td>0.0</td>\n",
       "      <td>0.0</td>\n",
       "      <td>2</td>\n",
       "      <td>1</td>\n",
       "      <td>3</td>\n",
       "      <td>1</td>\n",
       "      <td>TA</td>\n",
       "      <td>7</td>\n",
       "      <td>Typ</td>\n",
       "      <td>0</td>\n",
       "      <td>NaN</td>\n",
       "      <td>BuiltIn</td>\n",
       "      <td>2007.0</td>\n",
       "      <td>Fin</td>\n",
       "      <td>2.0</td>\n",
       "      <td>400.0</td>\n",
       "      <td>TA</td>\n",
       "      <td>TA</td>\n",
       "      <td>Y</td>\n",
       "      <td>100</td>\n",
       "      <td>0</td>\n",
       "      <td>0</td>\n",
       "      <td>0</td>\n",
       "      <td>0</td>\n",
       "      <td>0</td>\n",
       "      <td>NaN</td>\n",
       "      <td>NaN</td>\n",
       "      <td>NaN</td>\n",
       "      <td>0</td>\n",
       "      <td>4</td>\n",
       "      <td>2010</td>\n",
       "      <td>WD</td>\n",
       "      <td>0</td>\n",
       "      <td>174000</td>\n",
       "    </tr>\n",
       "    <tr>\n",
       "      <th>4</th>\n",
       "      <td>255</td>\n",
       "      <td>906425045</td>\n",
       "      <td>50</td>\n",
       "      <td>RL</td>\n",
       "      <td>82.0</td>\n",
       "      <td>14235</td>\n",
       "      <td>Pave</td>\n",
       "      <td>NaN</td>\n",
       "      <td>IR1</td>\n",
       "      <td>Lvl</td>\n",
       "      <td>AllPub</td>\n",
       "      <td>Inside</td>\n",
       "      <td>Gtl</td>\n",
       "      <td>SawyerW</td>\n",
       "      <td>Norm</td>\n",
       "      <td>Norm</td>\n",
       "      <td>1Fam</td>\n",
       "      <td>1.5Fin</td>\n",
       "      <td>6</td>\n",
       "      <td>8</td>\n",
       "      <td>1900</td>\n",
       "      <td>1993</td>\n",
       "      <td>Gable</td>\n",
       "      <td>CompShg</td>\n",
       "      <td>Wd Sdng</td>\n",
       "      <td>Plywood</td>\n",
       "      <td>None</td>\n",
       "      <td>0.0</td>\n",
       "      <td>TA</td>\n",
       "      <td>TA</td>\n",
       "      <td>PConc</td>\n",
       "      <td>Fa</td>\n",
       "      <td>Gd</td>\n",
       "      <td>No</td>\n",
       "      <td>Unf</td>\n",
       "      <td>0.0</td>\n",
       "      <td>Unf</td>\n",
       "      <td>0.0</td>\n",
       "      <td>676.0</td>\n",
       "      <td>676.0</td>\n",
       "      <td>GasA</td>\n",
       "      <td>TA</td>\n",
       "      <td>Y</td>\n",
       "      <td>SBrkr</td>\n",
       "      <td>831</td>\n",
       "      <td>614</td>\n",
       "      <td>0</td>\n",
       "      <td>1445</td>\n",
       "      <td>0.0</td>\n",
       "      <td>0.0</td>\n",
       "      <td>2</td>\n",
       "      <td>0</td>\n",
       "      <td>3</td>\n",
       "      <td>1</td>\n",
       "      <td>TA</td>\n",
       "      <td>6</td>\n",
       "      <td>Typ</td>\n",
       "      <td>0</td>\n",
       "      <td>NaN</td>\n",
       "      <td>Detchd</td>\n",
       "      <td>1957.0</td>\n",
       "      <td>Unf</td>\n",
       "      <td>2.0</td>\n",
       "      <td>484.0</td>\n",
       "      <td>TA</td>\n",
       "      <td>TA</td>\n",
       "      <td>N</td>\n",
       "      <td>0</td>\n",
       "      <td>59</td>\n",
       "      <td>0</td>\n",
       "      <td>0</td>\n",
       "      <td>0</td>\n",
       "      <td>0</td>\n",
       "      <td>NaN</td>\n",
       "      <td>NaN</td>\n",
       "      <td>NaN</td>\n",
       "      <td>0</td>\n",
       "      <td>3</td>\n",
       "      <td>2010</td>\n",
       "      <td>WD</td>\n",
       "      <td>0</td>\n",
       "      <td>138500</td>\n",
       "    </tr>\n",
       "  </tbody>\n",
       "</table>\n",
       "</div>"
      ],
      "text/plain": [
       "    Id        PID  MSSubClass MSZoning  LotFrontage  LotArea Street Alley  \\\n",
       "0  109  533352170          60       RL          NaN    13517   Pave   NaN   \n",
       "1  544  531379050          60       RL         43.0    11492   Pave   NaN   \n",
       "2  153  535304180          20       RL         68.0     7922   Pave   NaN   \n",
       "3  318  916386060          60       RL         73.0     9802   Pave   NaN   \n",
       "4  255  906425045          50       RL         82.0    14235   Pave   NaN   \n",
       "\n",
       "  LotShape LandContour Utilities LotConfig LandSlope Neighborhood Condition1  \\\n",
       "0      IR1         Lvl    AllPub   CulDSac       Gtl       Sawyer       RRAe   \n",
       "1      IR1         Lvl    AllPub   CulDSac       Gtl      SawyerW       Norm   \n",
       "2      Reg         Lvl    AllPub    Inside       Gtl        NAmes       Norm   \n",
       "3      Reg         Lvl    AllPub    Inside       Gtl       Timber       Norm   \n",
       "4      IR1         Lvl    AllPub    Inside       Gtl      SawyerW       Norm   \n",
       "\n",
       "  Condition2 BldgType HouseStyle  OverallQual  OverallCond  YearBuilt  \\\n",
       "0       Norm     1Fam     2Story            6            8       1976   \n",
       "1       Norm     1Fam     2Story            7            5       1996   \n",
       "2       Norm     1Fam     1Story            5            7       1953   \n",
       "3       Norm     1Fam     2Story            5            5       2006   \n",
       "4       Norm     1Fam     1.5Fin            6            8       1900   \n",
       "\n",
       "   YearRemod/Add RoofStyle RoofMatl Exterior1st Exterior2nd MasVnrType  \\\n",
       "0           2005     Gable  CompShg     HdBoard     Plywood    BrkFace   \n",
       "1           1997     Gable  CompShg     VinylSd     VinylSd    BrkFace   \n",
       "2           2007     Gable  CompShg     VinylSd     VinylSd       None   \n",
       "3           2007     Gable  CompShg     VinylSd     VinylSd       None   \n",
       "4           1993     Gable  CompShg     Wd Sdng     Plywood       None   \n",
       "\n",
       "   MasVnrArea ExterQual ExterCond Foundation BsmtQual BsmtCond BsmtExposure  \\\n",
       "0       289.0        Gd        TA     CBlock       TA       TA           No   \n",
       "1       132.0        Gd        TA      PConc       Gd       TA           No   \n",
       "2         0.0        TA        Gd     CBlock       TA       TA           No   \n",
       "3         0.0        TA        TA      PConc       Gd       TA           No   \n",
       "4         0.0        TA        TA      PConc       Fa       Gd           No   \n",
       "\n",
       "  BsmtFinType1  BsmtFinSF1 BsmtFinType2  BsmtFinSF2  BsmtUnfSF  TotalBsmtSF  \\\n",
       "0          GLQ       533.0          Unf         0.0      192.0        725.0   \n",
       "1          GLQ       637.0          Unf         0.0      276.0        913.0   \n",
       "2          GLQ       731.0          Unf         0.0      326.0       1057.0   \n",
       "3          Unf         0.0          Unf         0.0      384.0        384.0   \n",
       "4          Unf         0.0          Unf         0.0      676.0        676.0   \n",
       "\n",
       "  Heating HeatingQC CentralAir Electrical  1stFlrSF  2ndFlrSF  LowQualFinSF  \\\n",
       "0    GasA        Ex          Y      SBrkr       725       754             0   \n",
       "1    GasA        Ex          Y      SBrkr       913      1209             0   \n",
       "2    GasA        TA          Y      SBrkr      1057         0             0   \n",
       "3    GasA        Gd          Y      SBrkr       744       700             0   \n",
       "4    GasA        TA          Y      SBrkr       831       614             0   \n",
       "\n",
       "   GrLivArea  BsmtFullBath  BsmtHalfBath  FullBath  HalfBath  BedroomAbvGr  \\\n",
       "0       1479           0.0           0.0         2         1             3   \n",
       "1       2122           1.0           0.0         2         1             4   \n",
       "2       1057           1.0           0.0         1         0             3   \n",
       "3       1444           0.0           0.0         2         1             3   \n",
       "4       1445           0.0           0.0         2         0             3   \n",
       "\n",
       "   KitchenAbvGr KitchenQual  TotRmsAbvGrd Functional  Fireplaces FireplaceQu  \\\n",
       "0             1          Gd             6        Typ           0         NaN   \n",
       "1             1          Gd             8        Typ           1          TA   \n",
       "2             1          Gd             5        Typ           0         NaN   \n",
       "3             1          TA             7        Typ           0         NaN   \n",
       "4             1          TA             6        Typ           0         NaN   \n",
       "\n",
       "  GarageType  GarageYrBlt GarageFinish  GarageCars  GarageArea GarageQual  \\\n",
       "0     Attchd       1976.0          RFn         2.0       475.0         TA   \n",
       "1     Attchd       1997.0          RFn         2.0       559.0         TA   \n",
       "2     Detchd       1953.0          Unf         1.0       246.0         TA   \n",
       "3    BuiltIn       2007.0          Fin         2.0       400.0         TA   \n",
       "4     Detchd       1957.0          Unf         2.0       484.0         TA   \n",
       "\n",
       "  GarageCond PavedDrive  WoodDeckSF  OpenPorchSF  EnclosedPorch  3SsnPorch  \\\n",
       "0         TA          Y           0           44              0          0   \n",
       "1         TA          Y           0           74              0          0   \n",
       "2         TA          Y           0           52              0          0   \n",
       "3         TA          Y         100            0              0          0   \n",
       "4         TA          N           0           59              0          0   \n",
       "\n",
       "   ScreenPorch  PoolArea PoolQC Fence MiscFeature  MiscVal  MoSold  YrSold  \\\n",
       "0            0         0    NaN   NaN         NaN        0       3    2010   \n",
       "1            0         0    NaN   NaN         NaN        0       4    2009   \n",
       "2            0         0    NaN   NaN         NaN        0       1    2010   \n",
       "3            0         0    NaN   NaN         NaN        0       4    2010   \n",
       "4            0         0    NaN   NaN         NaN        0       3    2010   \n",
       "\n",
       "  SaleType  SaleCondition  SalePrice  \n",
       "0      WD               0     130500  \n",
       "1      WD               0     220000  \n",
       "2      WD               1     109000  \n",
       "3      WD               0     174000  \n",
       "4      WD               0     138500  "
      ]
     },
     "execution_count": 4,
     "metadata": {},
     "output_type": "execute_result"
    }
   ],
   "source": [
    "df.head(5)"
   ]
  },
  {
   "cell_type": "code",
   "execution_count": 5,
   "metadata": {},
   "outputs": [
    {
     "data": {
      "text/plain": [
       "(2051, 82)"
      ]
     },
     "execution_count": 5,
     "metadata": {},
     "output_type": "execute_result"
    }
   ],
   "source": [
    "df.shape"
   ]
  },
  {
   "cell_type": "code",
   "execution_count": 6,
   "metadata": {},
   "outputs": [
    {
     "name": "stdout",
     "output_type": "stream",
     "text": [
      "<class 'pandas.core.frame.DataFrame'>\n",
      "RangeIndex: 2051 entries, 0 to 2050\n",
      "Data columns (total 82 columns):\n",
      "Id               2051 non-null int64\n",
      "PID              2051 non-null int64\n",
      "MSSubClass       2051 non-null int64\n",
      "MSZoning         2051 non-null object\n",
      "LotFrontage      1721 non-null float64\n",
      "LotArea          2051 non-null int64\n",
      "Street           2051 non-null object\n",
      "Alley            140 non-null object\n",
      "LotShape         2051 non-null object\n",
      "LandContour      2051 non-null object\n",
      "Utilities        2051 non-null object\n",
      "LotConfig        2051 non-null object\n",
      "LandSlope        2051 non-null object\n",
      "Neighborhood     2051 non-null object\n",
      "Condition1       2051 non-null object\n",
      "Condition2       2051 non-null object\n",
      "BldgType         2051 non-null object\n",
      "HouseStyle       2051 non-null object\n",
      "OverallQual      2051 non-null int64\n",
      "OverallCond      2051 non-null int64\n",
      "YearBuilt        2051 non-null int64\n",
      "YearRemod/Add    2051 non-null int64\n",
      "RoofStyle        2051 non-null object\n",
      "RoofMatl         2051 non-null object\n",
      "Exterior1st      2051 non-null object\n",
      "Exterior2nd      2051 non-null object\n",
      "MasVnrType       2029 non-null object\n",
      "MasVnrArea       2029 non-null float64\n",
      "ExterQual        2051 non-null object\n",
      "ExterCond        2051 non-null object\n",
      "Foundation       2051 non-null object\n",
      "BsmtQual         1996 non-null object\n",
      "BsmtCond         1996 non-null object\n",
      "BsmtExposure     1993 non-null object\n",
      "BsmtFinType1     1996 non-null object\n",
      "BsmtFinSF1       2050 non-null float64\n",
      "BsmtFinType2     1995 non-null object\n",
      "BsmtFinSF2       2050 non-null float64\n",
      "BsmtUnfSF        2050 non-null float64\n",
      "TotalBsmtSF      2050 non-null float64\n",
      "Heating          2051 non-null object\n",
      "HeatingQC        2051 non-null object\n",
      "CentralAir       2051 non-null object\n",
      "Electrical       2051 non-null object\n",
      "1stFlrSF         2051 non-null int64\n",
      "2ndFlrSF         2051 non-null int64\n",
      "LowQualFinSF     2051 non-null int64\n",
      "GrLivArea        2051 non-null int64\n",
      "BsmtFullBath     2049 non-null float64\n",
      "BsmtHalfBath     2049 non-null float64\n",
      "FullBath         2051 non-null int64\n",
      "HalfBath         2051 non-null int64\n",
      "BedroomAbvGr     2051 non-null int64\n",
      "KitchenAbvGr     2051 non-null int64\n",
      "KitchenQual      2051 non-null object\n",
      "TotRmsAbvGrd     2051 non-null int64\n",
      "Functional       2051 non-null object\n",
      "Fireplaces       2051 non-null int64\n",
      "FireplaceQu      1051 non-null object\n",
      "GarageType       1938 non-null object\n",
      "GarageYrBlt      1937 non-null float64\n",
      "GarageFinish     1937 non-null object\n",
      "GarageCars       2050 non-null float64\n",
      "GarageArea       2050 non-null float64\n",
      "GarageQual       1937 non-null object\n",
      "GarageCond       1937 non-null object\n",
      "PavedDrive       2051 non-null object\n",
      "WoodDeckSF       2051 non-null int64\n",
      "OpenPorchSF      2051 non-null int64\n",
      "EnclosedPorch    2051 non-null int64\n",
      "3SsnPorch        2051 non-null int64\n",
      "ScreenPorch      2051 non-null int64\n",
      "PoolArea         2051 non-null int64\n",
      "PoolQC           9 non-null object\n",
      "Fence            400 non-null object\n",
      "MiscFeature      65 non-null object\n",
      "MiscVal          2051 non-null int64\n",
      "MoSold           2051 non-null int64\n",
      "YrSold           2051 non-null int64\n",
      "SaleType         2051 non-null object\n",
      "SaleCondition    2051 non-null int64\n",
      "SalePrice        2051 non-null int64\n",
      "dtypes: float64(11), int64(29), object(42)\n",
      "memory usage: 1.3+ MB\n"
     ]
    }
   ],
   "source": [
    "# we can see many columns containing missing data\n",
    "df.info()"
   ]
  },
  {
   "cell_type": "code",
   "execution_count": 7,
   "metadata": {},
   "outputs": [
    {
     "data": {
      "text/plain": [
       "['LotFrontage',\n",
       " 'Alley',\n",
       " 'MasVnrType',\n",
       " 'MasVnrArea',\n",
       " 'BsmtQual',\n",
       " 'BsmtCond',\n",
       " 'BsmtExposure',\n",
       " 'BsmtFinType1',\n",
       " 'BsmtFinSF1',\n",
       " 'BsmtFinType2',\n",
       " 'BsmtFinSF2',\n",
       " 'BsmtUnfSF',\n",
       " 'TotalBsmtSF',\n",
       " 'BsmtFullBath',\n",
       " 'BsmtHalfBath',\n",
       " 'FireplaceQu',\n",
       " 'GarageType',\n",
       " 'GarageYrBlt',\n",
       " 'GarageFinish',\n",
       " 'GarageCars',\n",
       " 'GarageArea',\n",
       " 'GarageQual',\n",
       " 'GarageCond',\n",
       " 'PoolQC',\n",
       " 'Fence',\n",
       " 'MiscFeature']"
      ]
     },
     "execution_count": 7,
     "metadata": {},
     "output_type": "execute_result"
    }
   ],
   "source": [
    "# checking the columns with missing data\n",
    "df.columns[df.isna().any()].tolist()"
   ]
  },
  {
   "cell_type": "code",
   "execution_count": 8,
   "metadata": {},
   "outputs": [
    {
     "data": {
      "text/plain": [
       "LotFrontage      330\n",
       "Alley           1911\n",
       "MasVnrType        22\n",
       "MasVnrArea        22\n",
       "BsmtQual          55\n",
       "BsmtCond          55\n",
       "BsmtExposure      58\n",
       "BsmtFinType1      55\n",
       "BsmtFinSF1         1\n",
       "BsmtFinType2      56\n",
       "BsmtFinSF2         1\n",
       "BsmtUnfSF          1\n",
       "TotalBsmtSF        1\n",
       "BsmtFullBath       2\n",
       "BsmtHalfBath       2\n",
       "FireplaceQu     1000\n",
       "GarageType       113\n",
       "GarageYrBlt      114\n",
       "GarageFinish     114\n",
       "GarageCars         1\n",
       "GarageArea         1\n",
       "GarageQual       114\n",
       "GarageCond       114\n",
       "PoolQC          2042\n",
       "Fence           1651\n",
       "MiscFeature     1986\n",
       "dtype: int64"
      ]
     },
     "execution_count": 8,
     "metadata": {},
     "output_type": "execute_result"
    }
   ],
   "source": [
    "# veiwing the missing values for each columns\n",
    "df.isna().sum()[df.isna().sum()!=0]"
   ]
  },
  {
   "cell_type": "code",
   "execution_count": 9,
   "metadata": {},
   "outputs": [],
   "source": [
    "# after careful reading about the data it seems most of the missing values contain meaning like not having a basement\n",
    "# that being said these are important information, i will replace missing data in alley with no-access\n",
    "df.Alley.fillna('no-access', inplace=True) \n",
    "\n",
    "# next i will replace the missing values in basement related columns with no basement\n",
    "df.BsmtQual.fillna('no-Basement', inplace=True) \n",
    "df.BsmtCond.fillna('no-Basement', inplace=True) \n",
    "df.BsmtExposure.fillna('no-Basement', inplace=True) \n",
    "df.BsmtFinType1.fillna('no-Basement', inplace=True) \n",
    "df.BsmtFinType2.fillna('no-Basement', inplace=True)\n",
    "\n",
    "# replace missing area of basement with zero if non-existing\n",
    "df.BsmtFinSF1.fillna(0, inplace=True) \n",
    "\n",
    "# replacing the missing data in fireplacequ with no-fireplace\n",
    "df.FireplaceQu.fillna('no-Fireplace', inplace=True) \n",
    "\n",
    "# replacing the garage missing values with no-garage while area with 0\n",
    "df.GarageType.fillna('no-Garage', inplace=True) \n",
    "df.GarageFinish.fillna('no-Garage', inplace=True) \n",
    "df.GarageCars.fillna(0, inplace=True)\n",
    "df.GarageQual.fillna('no-Garage', inplace=True)\n",
    "df.GarageCond.fillna('no-Garage', inplace=True)\n",
    "\n",
    "# replacing missing values within the pool and fence with no pool nor fence\n",
    "df.PoolQC.fillna('no-pool', inplace=True)\n",
    "df.Fence.fillna('no-Fence', inplace=True)\n",
    "df.MiscFeature.fillna('None', inplace=True)\n",
    "\n"
   ]
  },
  {
   "cell_type": "code",
   "execution_count": 10,
   "metadata": {},
   "outputs": [
    {
     "name": "stdout",
     "output_type": "stream",
     "text": [
      "<class 'pandas.core.frame.DataFrame'>\n",
      "RangeIndex: 2051 entries, 0 to 2050\n",
      "Data columns (total 82 columns):\n",
      "Id               2051 non-null int64\n",
      "PID              2051 non-null int64\n",
      "MSSubClass       2051 non-null int64\n",
      "MSZoning         2051 non-null object\n",
      "LotFrontage      1721 non-null float64\n",
      "LotArea          2051 non-null int64\n",
      "Street           2051 non-null object\n",
      "Alley            2051 non-null object\n",
      "LotShape         2051 non-null object\n",
      "LandContour      2051 non-null object\n",
      "Utilities        2051 non-null object\n",
      "LotConfig        2051 non-null object\n",
      "LandSlope        2051 non-null object\n",
      "Neighborhood     2051 non-null object\n",
      "Condition1       2051 non-null object\n",
      "Condition2       2051 non-null object\n",
      "BldgType         2051 non-null object\n",
      "HouseStyle       2051 non-null object\n",
      "OverallQual      2051 non-null int64\n",
      "OverallCond      2051 non-null int64\n",
      "YearBuilt        2051 non-null int64\n",
      "YearRemod/Add    2051 non-null int64\n",
      "RoofStyle        2051 non-null object\n",
      "RoofMatl         2051 non-null object\n",
      "Exterior1st      2051 non-null object\n",
      "Exterior2nd      2051 non-null object\n",
      "MasVnrType       2029 non-null object\n",
      "MasVnrArea       2029 non-null float64\n",
      "ExterQual        2051 non-null object\n",
      "ExterCond        2051 non-null object\n",
      "Foundation       2051 non-null object\n",
      "BsmtQual         2051 non-null object\n",
      "BsmtCond         2051 non-null object\n",
      "BsmtExposure     2051 non-null object\n",
      "BsmtFinType1     2051 non-null object\n",
      "BsmtFinSF1       2051 non-null float64\n",
      "BsmtFinType2     2051 non-null object\n",
      "BsmtFinSF2       2050 non-null float64\n",
      "BsmtUnfSF        2050 non-null float64\n",
      "TotalBsmtSF      2050 non-null float64\n",
      "Heating          2051 non-null object\n",
      "HeatingQC        2051 non-null object\n",
      "CentralAir       2051 non-null object\n",
      "Electrical       2051 non-null object\n",
      "1stFlrSF         2051 non-null int64\n",
      "2ndFlrSF         2051 non-null int64\n",
      "LowQualFinSF     2051 non-null int64\n",
      "GrLivArea        2051 non-null int64\n",
      "BsmtFullBath     2049 non-null float64\n",
      "BsmtHalfBath     2049 non-null float64\n",
      "FullBath         2051 non-null int64\n",
      "HalfBath         2051 non-null int64\n",
      "BedroomAbvGr     2051 non-null int64\n",
      "KitchenAbvGr     2051 non-null int64\n",
      "KitchenQual      2051 non-null object\n",
      "TotRmsAbvGrd     2051 non-null int64\n",
      "Functional       2051 non-null object\n",
      "Fireplaces       2051 non-null int64\n",
      "FireplaceQu      2051 non-null object\n",
      "GarageType       2051 non-null object\n",
      "GarageYrBlt      1937 non-null float64\n",
      "GarageFinish     2051 non-null object\n",
      "GarageCars       2051 non-null float64\n",
      "GarageArea       2050 non-null float64\n",
      "GarageQual       2051 non-null object\n",
      "GarageCond       2051 non-null object\n",
      "PavedDrive       2051 non-null object\n",
      "WoodDeckSF       2051 non-null int64\n",
      "OpenPorchSF      2051 non-null int64\n",
      "EnclosedPorch    2051 non-null int64\n",
      "3SsnPorch        2051 non-null int64\n",
      "ScreenPorch      2051 non-null int64\n",
      "PoolArea         2051 non-null int64\n",
      "PoolQC           2051 non-null object\n",
      "Fence            2051 non-null object\n",
      "MiscFeature      2051 non-null object\n",
      "MiscVal          2051 non-null int64\n",
      "MoSold           2051 non-null int64\n",
      "YrSold           2051 non-null int64\n",
      "SaleType         2051 non-null object\n",
      "SaleCondition    2051 non-null int64\n",
      "SalePrice        2051 non-null int64\n",
      "dtypes: float64(11), int64(29), object(42)\n",
      "memory usage: 1.3+ MB\n"
     ]
    }
   ],
   "source": [
    "# checking the missing values after filling a bit\n",
    "df.info()"
   ]
  },
  {
   "cell_type": "code",
   "execution_count": 11,
   "metadata": {},
   "outputs": [
    {
     "data": {
      "text/plain": [
       "(2051, 82)"
      ]
     },
     "execution_count": 11,
     "metadata": {},
     "output_type": "execute_result"
    }
   ],
   "source": [
    "df.shape"
   ]
  },
  {
   "cell_type": "code",
   "execution_count": 12,
   "metadata": {},
   "outputs": [
    {
     "data": {
      "text/plain": [
       "22"
      ]
     },
     "execution_count": 12,
     "metadata": {},
     "output_type": "execute_result"
    }
   ],
   "source": [
    "df.MasVnrType.isna().sum()"
   ]
  },
  {
   "cell_type": "code",
   "execution_count": 13,
   "metadata": {},
   "outputs": [
    {
     "data": {
      "text/plain": [
       "(1596, 82)"
      ]
     },
     "execution_count": 13,
     "metadata": {},
     "output_type": "execute_result"
    }
   ],
   "source": [
    "# droping all the na\n",
    "df.dropna(axis=0, how='any').shape\n",
    "\n",
    "# we can see lot of our data been taken lets try to fill with minimuim error"
   ]
  },
  {
   "cell_type": "code",
   "execution_count": 14,
   "metadata": {},
   "outputs": [
    {
     "data": {
      "text/plain": [
       "22"
      ]
     },
     "execution_count": 14,
     "metadata": {},
     "output_type": "execute_result"
    }
   ],
   "source": [
    "df.MasVnrType.isna().sum()"
   ]
  },
  {
   "cell_type": "code",
   "execution_count": 15,
   "metadata": {},
   "outputs": [],
   "source": [
    "# replacing the numerical columns from the no-basement with zeros\n",
    "df.loc[df.BsmtQual == 'no-Basement', ['BsmtFinSF1', 'BsmtFinSF2', 'BsmtUnfSF', 'TotalBsmtSF']] = 0"
   ]
  },
  {
   "cell_type": "code",
   "execution_count": 16,
   "metadata": {},
   "outputs": [],
   "source": [
    "# replacing the columns with no Masonry veneer with zeros and nones\n",
    "df.loc[df['MasVnrType'].isnull(), 'MasVnrArea'] = 0\n",
    "df.loc[df['MasVnrType'].isnull(), 'MasVnrType'] = 'None'\n",
    "df.loc[df['MasVnrArea'] == 0, 'MasVnrType'] = 'None'\n",
    "df.loc[df['MasVnrType'] == 'None', 'MasVnrArea'] = 0"
   ]
  },
  {
   "cell_type": "code",
   "execution_count": 17,
   "metadata": {},
   "outputs": [
    {
     "name": "stderr",
     "output_type": "stream",
     "text": [
      "C:\\ProgramData\\Anaconda3\\lib\\site-packages\\scipy\\stats\\stats.py:1713: FutureWarning: Using a non-tuple sequence for multidimensional indexing is deprecated; use `arr[tuple(seq)]` instead of `arr[seq]`. In the future this will be interpreted as an array index, `arr[np.array(seq)]`, which will result either in an error or a different result.\n",
      "  return np.add.reduce(sorted[indexer] * weights, axis=axis) / sumval\n"
     ]
    },
    {
     "data": {
      "text/plain": [
       "<matplotlib.axes._subplots.AxesSubplot at 0x265cd2f1a20>"
      ]
     },
     "execution_count": 17,
     "metadata": {},
     "output_type": "execute_result"
    },
    {
     "data": {
      "image/png": "[encoded data removed]",
      "text/plain": [
       "<Figure size 432x288 with 1 Axes>"
      ]
     },
     "metadata": {
      "image/png": {
       "height": 266,
       "width": 412
      },
      "needs_background": "light"
     },
     "output_type": "display_data"
    }
   ],
   "source": [
    "# we can see the price of none is similar to brkcmn\n",
    "sns.barplot(x=df.MasVnrType,y=df.SalePrice)"
   ]
  },
  {
   "cell_type": "code",
   "execution_count": 18,
   "metadata": {},
   "outputs": [
    {
     "name": "stderr",
     "output_type": "stream",
     "text": [
      "C:\\ProgramData\\Anaconda3\\lib\\site-packages\\scipy\\stats\\stats.py:1713: FutureWarning: Using a non-tuple sequence for multidimensional indexing is deprecated; use `arr[tuple(seq)]` instead of `arr[seq]`. In the future this will be interpreted as an array index, `arr[np.array(seq)]`, which will result either in an error or a different result.\n",
      "  return np.add.reduce(sorted[indexer] * weights, axis=axis) / sumval\n"
     ]
    },
    {
     "data": {
      "text/plain": [
       "<seaborn.axisgrid.JointGrid at 0x265cd686940>"
      ]
     },
     "execution_count": 18,
     "metadata": {},
     "output_type": "execute_result"
    },
    {
     "data": {
      "image/png": "[encoded data removed]",
      "text/plain": [
       "<Figure size 432x432 with 3 Axes>"
      ]
     },
     "metadata": {
      "image/png": {
       "height": 421,
       "width": 425
      },
      "needs_background": "light"
     },
     "output_type": "display_data"
    }
   ],
   "source": [
    "# we can see the great correlation between the two\n",
    "sns.jointplot(data=df,x='LotArea',y='LotFrontage',kind='reg',color='g')"
   ]
  },
  {
   "cell_type": "code",
   "execution_count": 19,
   "metadata": {},
   "outputs": [],
   "source": [
    "# we can see the LotFrontage having high correlation with LotArea so replacing the missing values according to LotArea may resualt in a very good estimation\n",
    "df.sort_values(['LotArea','1stFlrSF','MSSubClass'],inplace=True)\n",
    "df.LotFrontage.fillna(method='ffill',inplace=True)\n"
   ]
  },
  {
   "cell_type": "code",
   "execution_count": 20,
   "metadata": {},
   "outputs": [],
   "source": [
    "# replacing the no garage with zeros for numeric columns\n",
    "df.loc[df['GarageCond']=='no-Garage','GarageYrBlt']=0"
   ]
  },
  {
   "cell_type": "code",
   "execution_count": 21,
   "metadata": {},
   "outputs": [
    {
     "name": "stderr",
     "output_type": "stream",
     "text": [
      "C:\\ProgramData\\Anaconda3\\lib\\site-packages\\scipy\\stats\\stats.py:1713: FutureWarning: Using a non-tuple sequence for multidimensional indexing is deprecated; use `arr[tuple(seq)]` instead of `arr[seq]`. In the future this will be interpreted as an array index, `arr[np.array(seq)]`, which will result either in an error or a different result.\n",
      "  return np.add.reduce(sorted[indexer] * weights, axis=axis) / sumval\n"
     ]
    },
    {
     "data": {
      "text/plain": [
       "<seaborn.axisgrid.JointGrid at 0x265cd82e5c0>"
      ]
     },
     "execution_count": 21,
     "metadata": {},
     "output_type": "execute_result"
    },
    {
     "data": {
      "image/png": "[encoded data removed]",
      "text/plain": [
       "<Figure size 432x432 with 3 Axes>"
      ]
     },
     "metadata": {
      "image/png": {
       "height": 421,
       "width": 412
      },
      "needs_background": "light"
     },
     "output_type": "display_data"
    }
   ],
   "source": [
    "sns.jointplot(data=df,x='BsmtFinSF1',y='BsmtFullBath',kind='reg')"
   ]
  },
  {
   "cell_type": "code",
   "execution_count": 22,
   "metadata": {},
   "outputs": [],
   "source": [
    "# replacing the missing values with most correlated columns though it's merely two data points so it won't have effect \n",
    "df.sort_values(['BsmtFinSF1','BsmtUnfSF'],inplace=True)\n",
    "df.BsmtFullBath.fillna(method='ffill',inplace=True)\n",
    "df.BsmtHalfBath.fillna(method='ffill',inplace=True)"
   ]
  },
  {
   "cell_type": "code",
   "execution_count": 23,
   "metadata": {},
   "outputs": [],
   "source": [
    "# replacing the no garage area with zeros\n",
    "df.loc[df.GarageArea.isnull(),'GarageArea']=0"
   ]
  },
  {
   "cell_type": "code",
   "execution_count": 24,
   "metadata": {},
   "outputs": [],
   "source": [
    "# checking columns for numeric before converting it to floats\n",
    "df=df.applymap(lambda x: float(x) if str.isdigit(str(x)) else x)"
   ]
  },
  {
   "cell_type": "code",
   "execution_count": 25,
   "metadata": {
    "scrolled": true
   },
   "outputs": [
    {
     "name": "stdout",
     "output_type": "stream",
     "text": [
      "<class 'pandas.core.frame.DataFrame'>\n",
      "Int64Index: 2051 entries, 1428 to 960\n",
      "Data columns (total 82 columns):\n",
      "Id               2051 non-null float64\n",
      "PID              2051 non-null float64\n",
      "MSSubClass       2051 non-null float64\n",
      "MSZoning         2051 non-null object\n",
      "LotFrontage      2051 non-null float64\n",
      "LotArea          2051 non-null float64\n",
      "Street           2051 non-null object\n",
      "Alley            2051 non-null object\n",
      "LotShape         2051 non-null object\n",
      "LandContour      2051 non-null object\n",
      "Utilities        2051 non-null object\n",
      "LotConfig        2051 non-null object\n",
      "LandSlope        2051 non-null object\n",
      "Neighborhood     2051 non-null object\n",
      "Condition1       2051 non-null object\n",
      "Condition2       2051 non-null object\n",
      "BldgType         2051 non-null object\n",
      "HouseStyle       2051 non-null object\n",
      "OverallQual      2051 non-null float64\n",
      "OverallCond      2051 non-null float64\n",
      "YearBuilt        2051 non-null float64\n",
      "YearRemod/Add    2051 non-null float64\n",
      "RoofStyle        2051 non-null object\n",
      "RoofMatl         2051 non-null object\n",
      "Exterior1st      2051 non-null object\n",
      "Exterior2nd      2051 non-null object\n",
      "MasVnrType       2051 non-null object\n",
      "MasVnrArea       2051 non-null float64\n",
      "ExterQual        2051 non-null object\n",
      "ExterCond        2051 non-null object\n",
      "Foundation       2051 non-null object\n",
      "BsmtQual         2051 non-null object\n",
      "BsmtCond         2051 non-null object\n",
      "BsmtExposure     2051 non-null object\n",
      "BsmtFinType1     2051 non-null object\n",
      "BsmtFinSF1       2051 non-null float64\n",
      "BsmtFinType2     2051 non-null object\n",
      "BsmtFinSF2       2051 non-null float64\n",
      "BsmtUnfSF        2051 non-null float64\n",
      "TotalBsmtSF      2051 non-null float64\n",
      "Heating          2051 non-null object\n",
      "HeatingQC        2051 non-null object\n",
      "CentralAir       2051 non-null object\n",
      "Electrical       2051 non-null object\n",
      "1stFlrSF         2051 non-null float64\n",
      "2ndFlrSF         2051 non-null float64\n",
      "LowQualFinSF     2051 non-null float64\n",
      "GrLivArea        2051 non-null float64\n",
      "BsmtFullBath     2051 non-null float64\n",
      "BsmtHalfBath     2051 non-null float64\n",
      "FullBath         2051 non-null float64\n",
      "HalfBath         2051 non-null float64\n",
      "BedroomAbvGr     2051 non-null float64\n",
      "KitchenAbvGr     2051 non-null float64\n",
      "KitchenQual      2051 non-null object\n",
      "TotRmsAbvGrd     2051 non-null float64\n",
      "Functional       2051 non-null object\n",
      "Fireplaces       2051 non-null float64\n",
      "FireplaceQu      2051 non-null object\n",
      "GarageType       2051 non-null object\n",
      "GarageYrBlt      2051 non-null float64\n",
      "GarageFinish     2051 non-null object\n",
      "GarageCars       2051 non-null float64\n",
      "GarageArea       2051 non-null float64\n",
      "GarageQual       2051 non-null object\n",
      "GarageCond       2051 non-null object\n",
      "PavedDrive       2051 non-null object\n",
      "WoodDeckSF       2051 non-null float64\n",
      "OpenPorchSF      2051 non-null float64\n",
      "EnclosedPorch    2051 non-null float64\n",
      "3SsnPorch        2051 non-null float64\n",
      "ScreenPorch      2051 non-null float64\n",
      "PoolArea         2051 non-null float64\n",
      "PoolQC           2051 non-null object\n",
      "Fence            2051 non-null object\n",
      "MiscFeature      2051 non-null object\n",
      "MiscVal          2051 non-null float64\n",
      "MoSold           2051 non-null float64\n",
      "YrSold           2051 non-null float64\n",
      "SaleType         2051 non-null object\n",
      "SaleCondition    2051 non-null float64\n",
      "SalePrice        2051 non-null float64\n",
      "dtypes: float64(40), object(42)\n",
      "memory usage: 1.3+ MB\n"
     ]
    }
   ],
   "source": [
    "# the data is all clean now\n",
    "df.info()\n"
   ]
  },
  {
   "cell_type": "code",
   "execution_count": 26,
   "metadata": {},
   "outputs": [],
   "source": [
    "# save the data into local file to tinker with it later\n",
    "#df.to_csv('very_clean_train.csv',index=False)"
   ]
  },
  {
   "cell_type": "code",
   "execution_count": 27,
   "metadata": {},
   "outputs": [
    {
     "data": {
      "text/plain": [
       "150"
      ]
     },
     "execution_count": 27,
     "metadata": {},
     "output_type": "execute_result"
    }
   ],
   "source": [
    "# redundant columns investigation\n",
    "all_columns=pd.get_dummies(df,drop_first=False)\n",
    "# take only data with 0.1 or more absolute value correlation \n",
    "final_columns=list(abs(all_columns.corr()[abs(all_columns.corr()['SalePrice'])>0.1]['SalePrice']).index)\n",
    "len(final_columns)"
   ]
  },
  {
   "cell_type": "code",
   "execution_count": 28,
   "metadata": {},
   "outputs": [
    {
     "data": {
      "text/plain": [
       "131"
      ]
     },
     "execution_count": 28,
     "metadata": {},
     "output_type": "execute_result"
    }
   ],
   "source": [
    "# function that remove redundant columns\n",
    "def removing_redundants(df,columns,target='SalePrice'):\n",
    "    df=df[columns].corr()\n",
    "    column=list(df.columns)\n",
    "    index=list(df.index)\n",
    "    non=columns\n",
    "    for i in index:\n",
    "        for c in column:\n",
    "            if i==c:\n",
    "                continue\n",
    "            elif i==target or c==target:\n",
    "                continue\n",
    "            elif abs(df.loc[i,c]) >= 0.9:\n",
    "                if abs(df.loc[i,target]) >= abs(df.loc[c,target]) and (c in non):\n",
    "                    non.remove(c)\n",
    "                elif i in non:\n",
    "                    non.remove(i)\n",
    "    return non\n",
    "\n",
    "nonredundant_columns=removing_redundants(all_columns,final_columns)\n",
    "len(nonredundant_columns)"
   ]
  },
  {
   "cell_type": "code",
   "execution_count": 29,
   "metadata": {},
   "outputs": [],
   "source": [
    "final_data=all_columns[['Id']+nonredundant_columns]\n"
   ]
  },
  {
   "cell_type": "code",
   "execution_count": 30,
   "metadata": {},
   "outputs": [
    {
     "name": "stdout",
     "output_type": "stream",
     "text": [
      "<class 'pandas.core.frame.DataFrame'>\n",
      "Int64Index: 2051 entries, 1428 to 960\n",
      "Columns: 132 entries, Id to SaleType_WD \n",
      "dtypes: float64(29), uint8(103)\n",
      "memory usage: 687.0 KB\n"
     ]
    }
   ],
   "source": [
    "final_data.info()"
   ]
  },
  {
   "cell_type": "code",
   "execution_count": 31,
   "metadata": {},
   "outputs": [
    {
     "data": {
      "text/plain": [
       "SalePrice           1.000000\n",
       "OverallQual         0.800207\n",
       "GrLivArea           0.697038\n",
       "GarageArea          0.649897\n",
       "GarageCars          0.647781\n",
       "TotalBsmtSF         0.629303\n",
       "1stFlrSF            0.618486\n",
       "ExterQual_TA        0.600362\n",
       "BsmtQual_Ex         0.586497\n",
       "YearBuilt           0.571849\n",
       "KitchenQual_Ex      0.551284\n",
       "YearRemod/Add       0.550370\n",
       "KitchenQual_TA      0.540860\n",
       "FullBath            0.537969\n",
       "Foundation_PConc    0.529047\n",
       "TotRmsAbvGrd        0.504014\n",
       "MasVnrArea          0.503529\n",
       "ExterQual_Ex        0.493861\n",
       "BsmtFinType1_GLQ    0.463549\n",
       "BsmtQual_TA         0.456979\n",
       "Name: SalePrice, dtype: float64"
      ]
     },
     "execution_count": 31,
     "metadata": {},
     "output_type": "execute_result"
    }
   ],
   "source": [
    "# checking correlation\n",
    "abs(final_data.corr()['SalePrice']).nlargest(20)"
   ]
  },
  {
   "cell_type": "code",
   "execution_count": 32,
   "metadata": {},
   "outputs": [
    {
     "name": "stdout",
     "output_type": "stream",
     "text": [
      "<class 'pandas.core.frame.DataFrame'>\n",
      "Int64Index: 2051 entries, 1428 to 960\n",
      "Columns: 132 entries, Id to SaleType_WD \n",
      "dtypes: float64(29), uint8(103)\n",
      "memory usage: 687.0 KB\n"
     ]
    }
   ],
   "source": [
    "final_data.info()"
   ]
  },
  {
   "cell_type": "markdown",
   "metadata": {},
   "source": [
    "# Modeling for the Regression task."
   ]
  },
  {
   "cell_type": "code",
   "execution_count": 87,
   "metadata": {},
   "outputs": [
    {
     "data": {
      "text/plain": [
       "[]"
      ]
     },
     "execution_count": 87,
     "metadata": {},
     "output_type": "execute_result"
    }
   ],
   "source": [
    "# reading the saved training and testing data\n",
    "df=pd.read_csv('very_clean_train.csv')\n",
    "testing_set=pd.read_csv('very_clean_test.csv')\n",
    "testing_set.drop('PID',axis=1,inplace=True)\n",
    "df.drop(['PID','Id'],axis=1,inplace=True)\n",
    "\n",
    "# detecting outliers\n",
    "def detect_outlier(data_1):\n",
    "    outliers=[]\n",
    "    threshold=6\n",
    "    mean_1 = np.mean(data_1)\n",
    "    std_1 =np.std(data_1)\n",
    "    \n",
    "    for y in data_1:\n",
    "        z_score= (y - mean_1)/std_1 \n",
    "        if np.abs(z_score) > threshold:\n",
    "            outliers.append(y)\n",
    "    return outliers\n",
    "\n",
    "outliers=detect_outlier(df.SalePrice)\n",
    "df=df[~df.SalePrice.isin(outliers)]\n",
    "outliers"
   ]
  },
  {
   "cell_type": "code",
   "execution_count": 88,
   "metadata": {},
   "outputs": [],
   "source": [
    "from sklearn.preprocessing import StandardScaler\n",
    "from sklearn.model_selection import train_test_split\n",
    "\n",
    "# dummifying the categorical columns\n",
    "train_df=pd.get_dummies(df)\n",
    "testing=pd.get_dummies(testing_set,drop_first=True)\n",
    "\n",
    "# taking the columns with correlation higher than 0.1 and applying the removing redundants equation \n",
    "columns=list(abs(train_df.corr()[abs(train_df.corr()['SalePrice'])>0.1]['SalePrice']).index)\n",
    "columns=removing_redundants(train_df,columns)\n",
    "train_df=train_df[columns]\n",
    "\n",
    "\n"
   ]
  },
  {
   "cell_type": "code",
   "execution_count": 89,
   "metadata": {},
   "outputs": [],
   "source": [
    "# taking only the columns existing in both train and test data\n",
    "def fixing_columns(train_df,testing):\n",
    "    train_test_columns=[]\n",
    "    for i in list(testing.columns):\n",
    "        if i in list(train_df.columns) and i not in train_test_columns:\n",
    "            train_test_columns.append(i)\n",
    "    return train_test_columns\n",
    "train_test_columns=fixing_columns(train_df,testing)"
   ]
  },
  {
   "cell_type": "code",
   "execution_count": 90,
   "metadata": {},
   "outputs": [],
   "source": [
    "# taking only the columns existing in both train and test data\n",
    "train_df=train_df[train_test_columns+['SalePrice']]\n",
    "testing=testing[['Id']+train_test_columns]"
   ]
  },
  {
   "cell_type": "code",
   "execution_count": 91,
   "metadata": {
    "scrolled": true
   },
   "outputs": [],
   "source": [
    "# applying a log scaling since we have many skewed columns\n",
    "X=np.log2(train_df.drop(['SalePrice'],axis=1)+1)\n",
    "y=train_df['SalePrice']\n",
    "\n",
    "# splitting the training and testing\n",
    "X_train,X_test,y_train,y_test=train_test_split(X,y,test_size=0.2,random_state=11037,shuffle=True)\n"
   ]
  },
  {
   "cell_type": "code",
   "execution_count": 38,
   "metadata": {},
   "outputs": [
    {
     "name": "stderr",
     "output_type": "stream",
     "text": [
      "C:\\ProgramData\\Anaconda3\\lib\\site-packages\\sklearn\\model_selection\\_search.py:841: DeprecationWarning: The default of the `iid` parameter will change from True to False in version 0.22 and will be removed in 0.24. This will change numeric results when test-set sizes are unequal.\n",
      "  DeprecationWarning)\n"
     ]
    },
    {
     "data": {
      "text/plain": [
       "GradientBoostingRegressor(alpha=0.9, criterion='friedman_mse', init=None,\n",
       "             learning_rate=0.08, loss='ls', max_depth=3, max_features=None,\n",
       "             max_leaf_nodes=None, min_impurity_decrease=4,\n",
       "             min_impurity_split=None, min_samples_leaf=1,\n",
       "             min_samples_split=0.22, min_weight_fraction_leaf=0.0,\n",
       "             n_estimators=500, n_iter_no_change=None, presort='auto',\n",
       "             random_state=None, subsample=1.0, tol=0.0001,\n",
       "             validation_fraction=0.1, verbose=0, warm_start=False)"
      ]
     },
     "execution_count": 38,
     "metadata": {},
     "output_type": "execute_result"
    }
   ],
   "source": [
    "from sklearn.ensemble import GradientBoostingRegressor,RandomForestRegressor,BaggingRegressor,AdaBoostRegressor,ExtraTreesRegressor\n",
    "from sklearn.svm import SVR\n",
    "import xgboost as xgb\n",
    "from sklearn.linear_model import LinearRegression\n",
    "from sklearn.metrics import mean_squared_error\n",
    "from sklearn.tree import ExtraTreeRegressor\n",
    "from sklearn.model_selection import cross_val_score,GridSearchCV\n",
    "from sklearn.linear_model import Lasso,PassiveAggressiveRegressor,LassoCV\n",
    "\n",
    "from sklearn.ensemble import GradientBoostingRegressor\n",
    "from sklearn.model_selection import cross_val_score\n",
    "from sklearn.model_selection import GridSearchCV\n",
    "\n",
    "# Grid search for the best parameters\n",
    "param={\"n_estimators\": np.int_(np.linspace(500,5000,10)),\n",
    "       \"learning_rate\":np.linspace(0.01,0.1,10)}\n",
    "m1=GradientBoostingRegressor(min_samples_split=0.22,min_impurity_decrease=4)\n",
    "grid=GridSearchCV(estimator=m1,param_grid=param,scoring='neg_mean_squared_error',cv=5,n_jobs=-1)\n",
    "grid.fit(X,y)\n",
    "grid.best_estimator_"
   ]
  },
  {
   "cell_type": "code",
   "execution_count": 92,
   "metadata": {},
   "outputs": [
    {
     "name": "stdout",
     "output_type": "stream",
     "text": [
      "Cross-validation RMSE: 27598.448947219596\n"
     ]
    }
   ],
   "source": [
    "# taking the best parameters and crossvalidate with it\n",
    "m1=grid.best_estimator_\n",
    "cv=cross_val_score(m1,X,y,cv=5,scoring='neg_mean_squared_error')\n",
    "print('Cross-validation RMSE:',np.sqrt(np.abs(cv)).mean())\n"
   ]
  },
  {
   "cell_type": "code",
   "execution_count": 93,
   "metadata": {},
   "outputs": [
    {
     "name": "stdout",
     "output_type": "stream",
     "text": [
      "training           r2: 0.9716602705074219\n",
      "test               r2: 0.9218040861585906\n",
      "training         rmse: 13251.737665382816\n",
      "testing          rmse: 22718.064704814784\n"
     ]
    }
   ],
   "source": [
    "# testing the model\n",
    "m1.fit(X_train,y_train)\n",
    "print('training           r2:',m1.score(X_train,y_train))\n",
    "print('test               r2:',m1.score(X_test,y_test))\n",
    "print('training         rmse:',np.sqrt(mean_squared_error(y_train,m1.predict(X_train))))\n",
    "print('testing          rmse:',np.sqrt(mean_squared_error(y_test,m1.predict(X_test))))"
   ]
  },
  {
   "cell_type": "code",
   "execution_count": 94,
   "metadata": {},
   "outputs": [
    {
     "data": {
      "text/html": [
       "<div>\n",
       "<style scoped>\n",
       "    .dataframe tbody tr th:only-of-type {\n",
       "        vertical-align: middle;\n",
       "    }\n",
       "\n",
       "    .dataframe tbody tr th {\n",
       "        vertical-align: top;\n",
       "    }\n",
       "\n",
       "    .dataframe thead th {\n",
       "        text-align: right;\n",
       "    }\n",
       "</style>\n",
       "<table border=\"1\" class=\"dataframe\">\n",
       "  <thead>\n",
       "    <tr style=\"text-align: right;\">\n",
       "      <th></th>\n",
       "      <th>ID</th>\n",
       "      <th>SalePrice</th>\n",
       "    </tr>\n",
       "  </thead>\n",
       "  <tbody>\n",
       "    <tr>\n",
       "      <th>0</th>\n",
       "      <td>1344</td>\n",
       "      <td>104486.982061</td>\n",
       "    </tr>\n",
       "    <tr>\n",
       "      <th>1</th>\n",
       "      <td>2680</td>\n",
       "      <td>84556.294784</td>\n",
       "    </tr>\n",
       "    <tr>\n",
       "      <th>2</th>\n",
       "      <td>1220</td>\n",
       "      <td>74778.036179</td>\n",
       "    </tr>\n",
       "    <tr>\n",
       "      <th>3</th>\n",
       "      <td>2185</td>\n",
       "      <td>83386.827200</td>\n",
       "    </tr>\n",
       "    <tr>\n",
       "      <th>4</th>\n",
       "      <td>1969</td>\n",
       "      <td>114009.230950</td>\n",
       "    </tr>\n",
       "  </tbody>\n",
       "</table>\n",
       "</div>"
      ],
      "text/plain": [
       "     ID      SalePrice\n",
       "0  1344  104486.982061\n",
       "1  2680   84556.294784\n",
       "2  1220   74778.036179\n",
       "3  2185   83386.827200\n",
       "4  1969  114009.230950"
      ]
     },
     "execution_count": 94,
     "metadata": {},
     "output_type": "execute_result"
    }
   ],
   "source": [
    "# making the submission file for Kaggle\n",
    "submit_file=pd.concat([pd.DataFrame(testing['Id']),pd.DataFrame(m1.predict(np.log2(testing.drop('Id',axis=1)+1)))],axis=1)\n",
    "submit_file.columns=['ID','SalePrice']\n",
    "submit_file.ID=submit_file.ID.astype('Int32')\n",
    "submit_file.head()\n"
   ]
  },
  {
   "cell_type": "code",
   "execution_count": 95,
   "metadata": {
    "scrolled": true
   },
   "outputs": [
    {
     "data": {
      "text/html": [
       "<div>\n",
       "<style scoped>\n",
       "    .dataframe tbody tr th:only-of-type {\n",
       "        vertical-align: middle;\n",
       "    }\n",
       "\n",
       "    .dataframe tbody tr th {\n",
       "        vertical-align: top;\n",
       "    }\n",
       "\n",
       "    .dataframe thead th {\n",
       "        text-align: right;\n",
       "    }\n",
       "</style>\n",
       "<table border=\"1\" class=\"dataframe\">\n",
       "  <thead>\n",
       "    <tr style=\"text-align: right;\">\n",
       "      <th></th>\n",
       "      <th>ID</th>\n",
       "      <th>SalePrice</th>\n",
       "    </tr>\n",
       "  </thead>\n",
       "  <tbody>\n",
       "    <tr>\n",
       "      <th>0</th>\n",
       "      <td>1344</td>\n",
       "      <td>104486.982061</td>\n",
       "    </tr>\n",
       "    <tr>\n",
       "      <th>1</th>\n",
       "      <td>2680</td>\n",
       "      <td>84556.294784</td>\n",
       "    </tr>\n",
       "    <tr>\n",
       "      <th>2</th>\n",
       "      <td>1220</td>\n",
       "      <td>74778.036179</td>\n",
       "    </tr>\n",
       "    <tr>\n",
       "      <th>3</th>\n",
       "      <td>2185</td>\n",
       "      <td>83386.827200</td>\n",
       "    </tr>\n",
       "    <tr>\n",
       "      <th>4</th>\n",
       "      <td>1969</td>\n",
       "      <td>114009.230950</td>\n",
       "    </tr>\n",
       "  </tbody>\n",
       "</table>\n",
       "</div>"
      ],
      "text/plain": [
       "     ID      SalePrice\n",
       "0  1344  104486.982061\n",
       "1  2680   84556.294784\n",
       "2  1220   74778.036179\n",
       "3  2185   83386.827200\n",
       "4  1969  114009.230950"
      ]
     },
     "execution_count": 95,
     "metadata": {},
     "output_type": "execute_result"
    }
   ],
   "source": [
    "# saving file to submit for regression\n",
    "submit_file.to_csv('submit_reg.csv',index=False)\n",
    "submit_file.head()\n"
   ]
  },
  {
   "cell_type": "markdown",
   "metadata": {},
   "source": [
    "# Modeling for Classification task"
   ]
  },
  {
   "cell_type": "code",
   "execution_count": 109,
   "metadata": {},
   "outputs": [
    {
     "data": {
      "text/plain": [
       "[]"
      ]
     },
     "execution_count": 109,
     "metadata": {},
     "output_type": "execute_result"
    }
   ],
   "source": [
    "# reading the saved training and testing data\n",
    "df=pd.read_csv('very_clean_train.csv')\n",
    "testing_set=pd.read_csv('very_clean_test.csv')\n",
    "testing_set.drop('PID',axis=1,inplace=True)\n",
    "df.drop(['PID','Id'],axis=1,inplace=True)\n",
    "def detect_outlier(data_1):\n",
    "    outliers=[]\n",
    "    threshold=8\n",
    "    mean_1 = np.mean(data_1)\n",
    "    std_1 =np.std(data_1)\n",
    "    \n",
    "    for y in data_1:\n",
    "        z_score= (y - mean_1)/std_1 \n",
    "        if np.abs(z_score) > threshold:\n",
    "            outliers.append(y)\n",
    "    return outliers\n",
    "\n",
    "# detecting outliers\n",
    "outliers=detect_outlier(df.SalePrice)\n",
    "df=df[~df.SalePrice.isin(outliers)]\n",
    "outliers"
   ]
  },
  {
   "cell_type": "code",
   "execution_count": 110,
   "metadata": {},
   "outputs": [],
   "source": [
    "from sklearn.preprocessing import StandardScaler\n",
    "from sklearn.model_selection import train_test_split\n",
    "\n",
    "# dummifying the categorical columns\n",
    "train_df=pd.get_dummies(df)\n",
    "testing=pd.get_dummies(testing_set,drop_first=True)\n",
    "\n",
    "# taking the columns with correlation higher than 0.1 and applying the removing redundants equation \n",
    "columns=list(abs(train_df.corr()[abs(train_df.corr()['SaleCondition'])>0.1]['SaleCondition']).index)\n",
    "columns=removing_redundants(train_df,columns,target='SaleCondition')\n",
    "train_df=train_df[columns]\n"
   ]
  },
  {
   "cell_type": "code",
   "execution_count": 111,
   "metadata": {},
   "outputs": [],
   "source": [
    "# taking only the columns existing in both train and test data\n",
    "def fixing_columns(train_df,testing):\n",
    "    train_test_columns=[]\n",
    "    for i in list(testing.columns):\n",
    "        if i in list(train_df.columns) and i not in train_test_columns:\n",
    "            train_test_columns.append(i)\n",
    "    return train_test_columns\n",
    "train_test_columns=fixing_columns(train_df,testing)"
   ]
  },
  {
   "cell_type": "code",
   "execution_count": 112,
   "metadata": {},
   "outputs": [],
   "source": [
    "# taking only the columns existing in both train and test data\n",
    "train_df=train_df[train_test_columns+['SaleCondition']]\n",
    "testing=testing[['Id']+train_test_columns]"
   ]
  },
  {
   "cell_type": "code",
   "execution_count": 113,
   "metadata": {},
   "outputs": [],
   "source": [
    "# applying a log scaling since we have many skewed columns\n",
    "X=np.log2(train_df.drop(['SaleCondition'],axis=1)+1)\n",
    "y=train_df['SaleCondition']\n",
    "\n",
    "# splitting the training and testing\n",
    "X_train,X_test,y_train,y_test=train_test_split(X,y,test_size=0.2,random_state=11037,shuffle=True)\n"
   ]
  },
  {
   "cell_type": "code",
   "execution_count": 114,
   "metadata": {},
   "outputs": [],
   "source": [
    "from sklearn.ensemble import GradientBoostingRegressor,GradientBoostingClassifier,IsolationForest\n",
    "from sklearn.svm import SVC,OneClassSVM\n",
    "import xgboost as xgb\n",
    "from sklearn.linear_model import LinearRegression\n",
    "from sklearn.metrics import mean_squared_error,f1_score,confusion_matrix\n",
    "from sklearn.tree import ExtraTreeRegressor\n",
    "from sklearn.model_selection import cross_val_score,GridSearchCV\n",
    "from sklearn.linear_model import Lasso,PassiveAggressiveRegressor,LassoCV\n",
    "from imblearn.over_sampling import SMOTE\n",
    "\n",
    "# applying oversampling since we have a severe imbalance issue\n",
    "m0=SMOTE()\n",
    "X_r, y_r=m0.fit_resample(X,y)\n",
    "X_res, y_res=m0.fit_resample(X_train,y_train)\n",
    "\n",
    "m2=GradientBoostingClassifier(max_depth=2,n_estimators=2000,min_samples_split=0.23,min_impurity_decrease=4,learning_rate=0.05)"
   ]
  },
  {
   "cell_type": "code",
   "execution_count": 49,
   "metadata": {},
   "outputs": [
    {
     "name": "stderr",
     "output_type": "stream",
     "text": [
      "C:\\ProgramData\\Anaconda3\\lib\\site-packages\\deap\\tools\\_hypervolume\\pyhv.py:33: ImportWarning: Falling back to the python version of hypervolume module. Expect this to be very slow.\n",
      "  \"module. Expect this to be very slow.\", ImportWarning)\n"
     ]
    },
    {
     "data": {
      "text/plain": [
       "GradientBoostingClassifier(criterion='friedman_mse', init=None,\n",
       "              learning_rate=0.04000000000000001, loss='deviance',\n",
       "              max_depth=2, max_features=None, max_leaf_nodes=None,\n",
       "              min_impurity_decrease=4, min_impurity_split=None,\n",
       "              min_samples_leaf=1, min_samples_split=0.23,\n",
       "              min_weight_fraction_leaf=0.0, n_estimators=500,\n",
       "              n_iter_no_change=None, presort='auto', random_state=None,\n",
       "              subsample=1.0, tol=0.0001, validation_fraction=0.1,\n",
       "              verbose=0, warm_start=False)"
      ]
     },
     "execution_count": 49,
     "metadata": {},
     "output_type": "execute_result"
    }
   ],
   "source": [
    "from sklearn.model_selection import StratifiedKFold\n",
    "from evolutionary_search import EvolutionaryAlgorithmSearchCV\n",
    "import random\n",
    "\n",
    "param={\"n_estimators\": np.int_(np.linspace(500,5000,10)),\n",
    "       \"learning_rate\":np.linspace(0.01,0.1,10)}\n",
    "grid2=GridSearchCV(estimator=m2,param_grid=param,scoring='f1',cv=5,n_jobs=-1)\n",
    "grid2.fit(X_r,y_r)\n",
    "grid2.best_estimator_"
   ]
  },
  {
   "cell_type": "code",
   "execution_count": 115,
   "metadata": {},
   "outputs": [
    {
     "name": "stdout",
     "output_type": "stream",
     "text": [
      "Cross-validation f1: 0.7878980657450951\n"
     ]
    }
   ],
   "source": [
    "m2=grid2.best_estimator_\n",
    "cv=cross_val_score(m2,X_r,y_r,cv=5,scoring='f1')\n",
    "print('Cross-validation f1:',cv.mean())"
   ]
  },
  {
   "cell_type": "code",
   "execution_count": 117,
   "metadata": {},
   "outputs": [
    {
     "name": "stdout",
     "output_type": "stream",
     "text": [
      "training f1_score: 0.2925373134328358\n",
      "testing  f1_score: 0.24657534246575344\n",
      "[[347  36]\n",
      " [ 19   9]]\n"
     ]
    }
   ],
   "source": [
    "# testing the model\n",
    "m2=grid2.best_estimator_\n",
    "m2.fit(X_res,y_res)\n",
    "print('training f1_score:',f1_score(y_train,m2.predict(X_train)))\n",
    "print('testing  f1_score:',f1_score(y_test,m2.predict(X_test)))\n",
    "print(confusion_matrix(y_test,m2.predict(X_test)))"
   ]
  },
  {
   "cell_type": "code",
   "execution_count": 118,
   "metadata": {},
   "outputs": [
    {
     "data": {
      "text/html": [
       "<div>\n",
       "<style scoped>\n",
       "    .dataframe tbody tr th:only-of-type {\n",
       "        vertical-align: middle;\n",
       "    }\n",
       "\n",
       "    .dataframe tbody tr th {\n",
       "        vertical-align: top;\n",
       "    }\n",
       "\n",
       "    .dataframe thead th {\n",
       "        text-align: right;\n",
       "    }\n",
       "</style>\n",
       "<table border=\"1\" class=\"dataframe\">\n",
       "  <thead>\n",
       "    <tr style=\"text-align: right;\">\n",
       "      <th></th>\n",
       "      <th>ID</th>\n",
       "      <th>SaleCondition</th>\n",
       "    </tr>\n",
       "  </thead>\n",
       "  <tbody>\n",
       "    <tr>\n",
       "      <th>0</th>\n",
       "      <td>1344</td>\n",
       "      <td>0</td>\n",
       "    </tr>\n",
       "    <tr>\n",
       "      <th>1</th>\n",
       "      <td>2680</td>\n",
       "      <td>1</td>\n",
       "    </tr>\n",
       "    <tr>\n",
       "      <th>2</th>\n",
       "      <td>1220</td>\n",
       "      <td>1</td>\n",
       "    </tr>\n",
       "    <tr>\n",
       "      <th>3</th>\n",
       "      <td>2185</td>\n",
       "      <td>1</td>\n",
       "    </tr>\n",
       "    <tr>\n",
       "      <th>4</th>\n",
       "      <td>1969</td>\n",
       "      <td>0</td>\n",
       "    </tr>\n",
       "  </tbody>\n",
       "</table>\n",
       "</div>"
      ],
      "text/plain": [
       "     ID  SaleCondition\n",
       "0  1344              0\n",
       "1  2680              1\n",
       "2  1220              1\n",
       "3  2185              1\n",
       "4  1969              0"
      ]
     },
     "execution_count": 118,
     "metadata": {},
     "output_type": "execute_result"
    }
   ],
   "source": [
    "# making the submission file for Kaggle\n",
    "submit_file=pd.concat([pd.DataFrame(testing['Id']),pd.DataFrame(m2.predict(np.log2(testing.drop('Id',axis=1)+1)))],axis=1)\n",
    "submit_file.columns=['ID','SaleCondition']\n",
    "submit_file.ID=submit_file.ID.astype('Int32')\n",
    "submit_file.SaleCondition=submit_file.SaleCondition.astype('Int32')\n",
    "submit_file.head()"
   ]
  },
  {
   "cell_type": "code",
   "execution_count": 119,
   "metadata": {},
   "outputs": [
    {
     "data": {
      "text/html": [
       "<div>\n",
       "<style scoped>\n",
       "    .dataframe tbody tr th:only-of-type {\n",
       "        vertical-align: middle;\n",
       "    }\n",
       "\n",
       "    .dataframe tbody tr th {\n",
       "        vertical-align: top;\n",
       "    }\n",
       "\n",
       "    .dataframe thead th {\n",
       "        text-align: right;\n",
       "    }\n",
       "</style>\n",
       "<table border=\"1\" class=\"dataframe\">\n",
       "  <thead>\n",
       "    <tr style=\"text-align: right;\">\n",
       "      <th></th>\n",
       "      <th>ID</th>\n",
       "      <th>SaleCondition</th>\n",
       "    </tr>\n",
       "  </thead>\n",
       "  <tbody>\n",
       "    <tr>\n",
       "      <th>0</th>\n",
       "      <td>1344</td>\n",
       "      <td>0</td>\n",
       "    </tr>\n",
       "    <tr>\n",
       "      <th>1</th>\n",
       "      <td>2680</td>\n",
       "      <td>1</td>\n",
       "    </tr>\n",
       "    <tr>\n",
       "      <th>2</th>\n",
       "      <td>1220</td>\n",
       "      <td>1</td>\n",
       "    </tr>\n",
       "    <tr>\n",
       "      <th>3</th>\n",
       "      <td>2185</td>\n",
       "      <td>1</td>\n",
       "    </tr>\n",
       "    <tr>\n",
       "      <th>4</th>\n",
       "      <td>1969</td>\n",
       "      <td>0</td>\n",
       "    </tr>\n",
       "  </tbody>\n",
       "</table>\n",
       "</div>"
      ],
      "text/plain": [
       "     ID  SaleCondition\n",
       "0  1344              0\n",
       "1  2680              1\n",
       "2  1220              1\n",
       "3  2185              1\n",
       "4  1969              0"
      ]
     },
     "execution_count": 119,
     "metadata": {},
     "output_type": "execute_result"
    }
   ],
   "source": [
    "# saving file to submit for regression\n",
    "submit_file.to_csv('submit_cla.csv',index=False)\n",
    "submit_file.head()"
   ]
  },
  {
   "cell_type": "code",
   "execution_count": null,
   "metadata": {},
   "outputs": [],
   "source": []
  }
 ],
 "metadata": {
  "kernelspec": {
   "display_name": "Python 3",
   "language": "python",
   "name": "python3"
  },
  "language_info": {
   "codemirror_mode": {
    "name": "ipython",
    "version": 3
   },
   "file_extension": ".py",
   "mimetype": "text/x-python",
   "name": "python",
   "nbconvert_exporter": "python",
   "pygments_lexer": "ipython3",
   "version": "3.7.0"
  },
  "toc": {
   "nav_menu": {},
   "number_sections": false,
   "sideBar": true,
   "skip_h1_title": true,
   "title_cell": "Table of Contents",
   "title_sidebar": "Contents",
   "toc_cell": false,
   "toc_position": {},
   "toc_section_display": "block",
   "toc_window_display": false
  }
 },
 "nbformat": 4,
 "nbformat_minor": 2
}
