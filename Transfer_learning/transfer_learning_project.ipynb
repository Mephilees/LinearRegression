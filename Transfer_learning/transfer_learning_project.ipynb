{
 "cells": [
  {
   "cell_type": "markdown",
   "metadata": {
    "colab_type": "text",
    "id": "MjDsgU02vjBL"
   },
   "source": [
    "# Developing an AI application\n",
    "\n",
    "Going forward, AI algorithms will be incorporated into more and more everyday applications. For example, you might want to include an image classifier in a smart phone app. To do this, you'd use a deep learning model trained on hundreds of thousands of images as part of the overall application architecture. A large part of software development in the future will be using these types of models as common parts of applications. \n",
    "\n",
    "In this project, you'll train an image classifier to recognize different species of flowers. You can imagine using something like this in a phone app that tells you the name of the flower your camera is looking at. In practice you'd train this classifier, then export it for use in your application. We'll be using [this dataset](http://www.robots.ox.ac.uk/~vgg/data/flowers/102/index.html) of 102 flower categories, you can see a few examples below. \n",
    "\n",
    "<img src='https://github.com/udacity/pytorch_challenge/blob/master/assets/Flowers.png?raw=1' width=500px>\n",
    "\n",
    "The project is broken down into multiple steps:\n",
    "\n",
    "* Load and preprocess the image dataset\n",
    "* Train the image classifier on your dataset\n",
    "* Use the trained classifier to predict image content\n",
    "\n",
    "We'll lead you through each part which you'll implement in Python.\n",
    "\n",
    "When you've completed this project, you'll have an application that can be trained on any set of labeled images. Here your network will be learning about flowers and end up as a command line application. But, what you do with your new skills depends on your imagination and effort in building a dataset. For example, imagine an app where you take a picture of a car, it tells you what the make and model is, then looks up information about it. Go build your own dataset and make something new.\n",
    "\n",
    "First up is importing the packages you'll need. It's good practice to keep all the imports at the beginning of your code. As you work through this notebook and find you need to import a package, make sure to add the import up here."
   ]
  },
  {
   "cell_type": "code",
   "execution_count": 1,
   "metadata": {
    "colab": {
     "base_uri": "https://localhost:8080/",
     "height": 128
    },
    "colab_type": "code",
    "id": "IJDNgg-tvjBO",
    "outputId": "28b2c76f-3ce9-4728-b8de-d5575d7c8b2f"
   },
   "outputs": [
    {
     "name": "stdout",
     "output_type": "stream",
     "text": [
      "Go to this URL in a browser: https://accounts.google.com/o/oauth2/auth?client_id=947318989803-6bn6qk8qdgf4n4g3pfee6491hc0brc4i.apps.googleusercontent.com&redirect_uri=urn%3Aietf%3Awg%3Aoauth%3A2.0%3Aoob&scope=email%20https%3A%2F%2Fwww.googleapis.com%2Fauth%2Fdocs.test%20https%3A%2F%2Fwww.googleapis.com%2Fauth%2Fdrive%20https%3A%2F%2Fwww.googleapis.com%2Fauth%2Fdrive.photos.readonly%20https%3A%2F%2Fwww.googleapis.com%2Fauth%2Fpeopleapi.readonly&response_type=code\n",
      "\n",
      "Enter your authorization code:\n",
      "··········\n",
      "Mounted at /content/gdrive\n"
     ]
    }
   ],
   "source": [
    "# Imports here\n",
    "import pandas as pd\n",
    "import numpy as np\n",
    "import torch\n",
    "import torch.nn as nn\n",
    "from torchvision import models,datasets,transforms\n",
    "from google.colab import drive\n",
    "from torch import optim\n",
    "import torch.nn.functional as F\n",
    "drive.mount('/content/gdrive')\n",
    "#!pip install Pillow\n",
    "\n"
   ]
  },
  {
   "cell_type": "markdown",
   "metadata": {
    "colab_type": "text",
    "id": "oZyNaR4tvjBR"
   },
   "source": [
    "## Load the data\n",
    "\n",
    "Here you'll use `torchvision` to load the data ([documentation](http://pytorch.org/docs/0.3.0/torchvision/index.html)). You can [download the data here](https://s3.amazonaws.com/content.udacity-data.com/courses/nd188/flower_data.zip). The dataset is split into two parts, training and validation. For the training, you'll want to apply transformations such as random scaling, cropping, and flipping. This will help the network generalize leading to better performance. If you use a pre-trained network, you'll also need to make sure the input data is resized to 224x224 pixels as required by the networks.\n",
    "\n",
    "The validation set is used to measure the model's performance on data it hasn't seen yet. For this you don't want any scaling or rotation transformations, but you'll need to resize then crop the images to the appropriate size.\n",
    "\n",
    "The pre-trained networks available from `torchvision` were trained on the ImageNet dataset where each color channel was normalized separately. For both sets you'll need to normalize the means and standard deviations of the images to what the network expects. For the means, it's `[0.485, 0.456, 0.406]` and for the standard deviations `[0.229, 0.224, 0.225]`, calculated from the ImageNet images.  These values will shift each color channel to be centered at 0 and range from -1 to 1."
   ]
  },
  {
   "cell_type": "code",
   "execution_count": 0,
   "metadata": {
    "colab": {},
    "colab_type": "code",
    "id": "pFm4xWjCvjBS"
   },
   "outputs": [],
   "source": [
    "data_dir = 'gdrive/My Drive/flower_data/'\n",
    "train_dir = data_dir + '/train'\n",
    "valid_dir = data_dir + '/valid'"
   ]
  },
  {
   "cell_type": "code",
   "execution_count": 0,
   "metadata": {
    "colab": {},
    "colab_type": "code",
    "id": "q9ADtiE0vjBW"
   },
   "outputs": [],
   "source": [
    "# Define the transforms for the training and validation sets\n",
    "data_transforms_train = transforms.Compose([transforms.Resize(250),\n",
    "                                     transforms.RandomCrop(224),\n",
    "                                     transforms.RandomHorizontalFlip(),\n",
    "                                     transforms.RandomRotation(30),\n",
    "                                     transforms.ToTensor(),\n",
    "                                     transforms.Normalize([0.485, 0.456, 0.406],\n",
    "                                                          [0.229, 0.224, 0.225])])\n",
    "\n",
    "data_transforms_test = transforms.Compose([transforms.Resize(250),\n",
    "                                     transforms.RandomCrop(224),\n",
    "                                     transforms.ToTensor(),\n",
    "                                     transforms.Normalize([0.485, 0.456, 0.406],\n",
    "                                                          [0.229, 0.224, 0.225])])\n",
    "\n",
    "# Loading the datasets with ImageFolder\n",
    "image_datasets_train = datasets.ImageFolder(train_dir,transform=data_transforms_train)\n",
    "image_datasets_test = datasets.ImageFolder(valid_dir,transform=data_transforms_test)\n",
    "#image_datasets = datasets.ImageFolder(data_dir,transform=data_transforms_train)\n",
    "# Using the image datasets and the trainforms, define the dataloaders\n",
    "train_loader = torch.utils.data.DataLoader(image_datasets_train,batch_size=200,shuffle=True)\n",
    "valid_loader = torch.utils.data.DataLoader(image_datasets_test,batch_size=200,shuffle=True)"
   ]
  },
  {
   "cell_type": "markdown",
   "metadata": {
    "colab_type": "text",
    "id": "n9ELwlo_vjBY"
   },
   "source": [
    "### Label mapping\n",
    "\n",
    "You'll also need to load in a mapping from category label to category name. You can find this in the file `cat_to_name.json`. It's a JSON object which you can read in with the [`json` module](https://docs.python.org/2/library/json.html). This will give you a dictionary mapping the integer encoded categories to the actual names of the flowers."
   ]
  },
  {
   "cell_type": "code",
   "execution_count": 0,
   "metadata": {
    "colab": {},
    "colab_type": "code",
    "id": "rriEHu4jvjBZ"
   },
   "outputs": [],
   "source": [
    "import json\n",
    "\n",
    "with open('gdrive/My Drive/cat_to_name.json', 'r') as f:\n",
    "    cat_to_name = json.load(f)"
   ]
  },
  {
   "cell_type": "markdown",
   "metadata": {
    "colab_type": "text",
    "id": "br94i4HNvjBb"
   },
   "source": [
    "# Building and training the classifier\n",
    "\n",
    "Now that the data is ready, it's time to build and train the classifier. As usual, you should use one of the pretrained models from `torchvision.models` to get the image features. Build and train a new feed-forward classifier using those features.\n",
    "\n",
    "We're going to leave this part up to you. If you want to talk through it with someone, chat with your fellow students! You can also ask questions on the forums or join the instructors in office hours.\n",
    "\n",
    "Refer to [the rubric](https://review.udacity.com/#!/rubrics/1663/view) for guidance on successfully completing this section. Things you'll need to do:\n",
    "\n",
    "* Load a [pre-trained network](http://pytorch.org/docs/master/torchvision/models.html) (If you need a starting point, the VGG networks work great and are straightforward to use)\n",
    "* Define a new, untrained feed-forward network as a classifier, using ReLU activations and dropout\n",
    "* Train the classifier layers using backpropagation using the pre-trained network to get the features\n",
    "* Track the loss and accuracy on the validation set to determine the best hyperparameters\n",
    "\n",
    "We've left a cell open for you below, but use as many as you need. Our advice is to break the problem up into smaller parts you can run separately. Check that each part is doing what you expect, then move on to the next. You'll likely find that as you work through each part, you'll need to go back and modify your previous code. This is totally normal!\n",
    "\n",
    "When training make sure you're updating only the weights of the feed-forward network. You should be able to get the validation accuracy above 70% if you build everything right. Make sure to try different hyperparameters (learning rate, units in the classifier, epochs, etc) to find the best model. Save those hyperparameters to use as default values in the next part of the project."
   ]
  },
  {
   "cell_type": "code",
   "execution_count": 21,
   "metadata": {
    "colab": {
     "base_uri": "https://localhost:8080/",
     "height": 599
    },
    "colab_type": "code",
    "id": "ssY4dOCSvjBc",
    "outputId": "07df8e74-fdfb-48b9-9481-c2ee4881eb18"
   },
   "outputs": [
    {
     "data": {
      "text/plain": [
       "VGG(\n",
       "  (features): Sequential(\n",
       "    (0): Conv2d(3, 64, kernel_size=(3, 3), stride=(1, 1), padding=(1, 1))\n",
       "    (1): ReLU(inplace)\n",
       "    (2): MaxPool2d(kernel_size=2, stride=2, padding=0, dilation=1, ceil_mode=False)\n",
       "    (3): Conv2d(64, 128, kernel_size=(3, 3), stride=(1, 1), padding=(1, 1))\n",
       "    (4): ReLU(inplace)\n",
       "    (5): MaxPool2d(kernel_size=2, stride=2, padding=0, dilation=1, ceil_mode=False)\n",
       "    (6): Conv2d(128, 256, kernel_size=(3, 3), stride=(1, 1), padding=(1, 1))\n",
       "    (7): ReLU(inplace)\n",
       "    (8): Conv2d(256, 256, kernel_size=(3, 3), stride=(1, 1), padding=(1, 1))\n",
       "    (9): ReLU(inplace)\n",
       "    (10): MaxPool2d(kernel_size=2, stride=2, padding=0, dilation=1, ceil_mode=False)\n",
       "    (11): Conv2d(256, 512, kernel_size=(3, 3), stride=(1, 1), padding=(1, 1))\n",
       "    (12): ReLU(inplace)\n",
       "    (13): Conv2d(512, 512, kernel_size=(3, 3), stride=(1, 1), padding=(1, 1))\n",
       "    (14): ReLU(inplace)\n",
       "    (15): MaxPool2d(kernel_size=2, stride=2, padding=0, dilation=1, ceil_mode=False)\n",
       "    (16): Conv2d(512, 512, kernel_size=(3, 3), stride=(1, 1), padding=(1, 1))\n",
       "    (17): ReLU(inplace)\n",
       "    (18): Conv2d(512, 512, kernel_size=(3, 3), stride=(1, 1), padding=(1, 1))\n",
       "    (19): ReLU(inplace)\n",
       "    (20): MaxPool2d(kernel_size=2, stride=2, padding=0, dilation=1, ceil_mode=False)\n",
       "  )\n",
       "  (classifier): Sequential(\n",
       "    (fc1): Linear(in_features=25088, out_features=1000, bias=True)\n",
       "    (relu): ReLU()\n",
       "    (dropout): Dropout(p=0.35)\n",
       "    (fc2): Linear(in_features=1000, out_features=102, bias=True)\n",
       "    (output): LogSoftmax()\n",
       "  )\n",
       ")"
      ]
     },
     "execution_count": 21,
     "metadata": {
      "tags": []
     },
     "output_type": "execute_result"
    }
   ],
   "source": [
    "# TODO: Build and train your network\n",
    "#model=models.inception_v3(pretrained=True)\n",
    "model = models.vgg11(pretrained=True)\n",
    "for param in model.parameters():\n",
    "    param.requires_grad = False\n",
    "\n",
    "from collections import OrderedDict\n",
    "classifier = nn.Sequential(OrderedDict([\n",
    "                          ('fc1', nn.Linear(25088, 1000)),\n",
    "                          ('relu', nn.ReLU()),\n",
    "                          ('dropout', nn.Dropout(0.31)),\n",
    "                          ('fc2', nn.Linear(1000, 102)),\n",
    "                          ('output', nn.LogSoftmax(dim=1))\n",
    "                          ]))\n",
    "model.classifier=classifier\n",
    "train_on_gpu = torch.cuda.is_available()\n",
    "device='cuda'\n",
    "if train_on_gpu:\n",
    "    model.to(device)\n",
    "model"
   ]
  },
  {
   "cell_type": "code",
   "execution_count": 0,
   "metadata": {
    "colab": {},
    "colab_type": "code",
    "id": "2HONdXZIm6pX"
   },
   "outputs": [],
   "source": [
    "criterion = nn.NLLLoss()\n",
    "optimizer = optim.Adam(model.classifier.parameters(), lr=0.003)"
   ]
  },
  {
   "cell_type": "code",
   "execution_count": 23,
   "metadata": {
    "colab": {
     "base_uri": "https://localhost:8080/",
     "height": 381
    },
    "colab_type": "code",
    "id": "jkz4YE3P5Smh",
    "outputId": "56f40aaf-e498-4223-e913-b7b2033471e5"
   },
   "outputs": [
    {
     "name": "stdout",
     "output_type": "stream",
     "text": [
      "Epoch: 1 \tTraining Loss: 5.605576 \tTest Loss: 1.705365 \tTraining Accuracy: 0.242456 \tTest Accuracy: 0.578222\n",
      "Epoch: 2 \tTraining Loss: 1.553396 \tTest Loss: 0.890385 \tTraining Accuracy: 0.584386 \tTest Accuracy: 0.747333\n",
      "Epoch: 3 \tTraining Loss: 1.231061 \tTest Loss: 0.835175 \tTraining Accuracy: 0.659466 \tTest Accuracy: 0.788778\n",
      "Epoch: 4 \tTraining Loss: 0.998757 \tTest Loss: 0.720041 \tTraining Accuracy: 0.714585 \tTest Accuracy: 0.841000\n",
      "Epoch: 5 \tTraining Loss: 0.931836 \tTest Loss: 0.712886 \tTraining Accuracy: 0.745247 \tTest Accuracy: 0.799556\n",
      "Epoch: 6 \tTraining Loss: 0.819405 \tTest Loss: 0.621995 \tTraining Accuracy: 0.770758 \tTest Accuracy: 0.851778\n",
      "Epoch: 7 \tTraining Loss: 0.793939 \tTest Loss: 0.667498 \tTraining Accuracy: 0.783732 \tTest Accuracy: 0.822556\n",
      "Epoch: 8 \tTraining Loss: 0.790553 \tTest Loss: 0.647120 \tTraining Accuracy: 0.777767 \tTest Accuracy: 0.875889\n",
      "Epoch: 9 \tTraining Loss: 0.756515 \tTest Loss: 0.698046 \tTraining Accuracy: 0.790526 \tTest Accuracy: 0.820444\n",
      "Epoch: 10 \tTraining Loss: 0.705684 \tTest Loss: 0.667124 \tTraining Accuracy: 0.803589 \tTest Accuracy: 0.868889\n",
      "Epoch: 11 \tTraining Loss: 0.646689 \tTest Loss: 0.644364 \tTraining Accuracy: 0.816499 \tTest Accuracy: 0.861778\n",
      "Epoch: 12 \tTraining Loss: 0.663757 \tTest Loss: 0.655087 \tTraining Accuracy: 0.816731 \tTest Accuracy: 0.822556\n",
      "Epoch: 13 \tTraining Loss: 0.707251 \tTest Loss: 0.622253 \tTraining Accuracy: 0.807265 \tTest Accuracy: 0.869778\n",
      "Epoch: 14 \tTraining Loss: 0.701965 \tTest Loss: 0.648364 \tTraining Accuracy: 0.806045 \tTest Accuracy: 0.872778\n",
      "Epoch: 15 \tTraining Loss: 0.662891 \tTest Loss: 0.672235 \tTraining Accuracy: 0.824075 \tTest Accuracy: 0.865778\n",
      "Epoch: 16 \tTraining Loss: 0.671747 \tTest Loss: 0.605939 \tTraining Accuracy: 0.818732 \tTest Accuracy: 0.862778\n",
      "Epoch: 17 \tTraining Loss: 0.639429 \tTest Loss: 0.741153 \tTraining Accuracy: 0.829474 \tTest Accuracy: 0.864889\n",
      "Epoch: 18 \tTraining Loss: 0.680632 \tTest Loss: 0.616000 \tTraining Accuracy: 0.816348 \tTest Accuracy: 0.835444\n",
      "Epoch: 19 \tTraining Loss: 0.649854 \tTest Loss: 0.695746 \tTraining Accuracy: 0.835574 \tTest Accuracy: 0.858778\n",
      "Epoch: 20 \tTraining Loss: 0.624260 \tTest Loss: 0.672074 \tTraining Accuracy: 0.830989 \tTest Accuracy: 0.847556\n"
     ]
    }
   ],
   "source": [
    "# number of epochs to train the model\n",
    "n_epochs = 20\n",
    "\n",
    "valid_loss_min = np.Inf # track change in validation loss\n",
    "\n",
    "for epoch in range(1, n_epochs+1):\n",
    "\n",
    "    # keep track of training and validation loss along accuraccy\n",
    "    train_loss = 0.0\n",
    "    valid_loss = 0.0\n",
    "    train_accuracy=0.0\n",
    "    test_accuracy=0.0\n",
    "    ###################\n",
    "    # train the model #\n",
    "    ###################\n",
    "    model.train()\n",
    "    for data, target in train_loader:\n",
    "        # move tensors to GPU if CUDA is available\n",
    "        if train_on_gpu:\n",
    "            data, target = data.cuda(), target.cuda()\n",
    "        # clear the gradients of all optimized variables\n",
    "        optimizer.zero_grad()\n",
    "        # forward pass: compute predicted outputs by passing inputs to the model\n",
    "        output = model(data)\n",
    "        # calculate the batch loss\n",
    "        loss = criterion(output, target)\n",
    "        # backward pass: compute gradient of the loss with respect to model parameters\n",
    "        loss.backward()\n",
    "        # perform a single optimization step (parameter update)\n",
    "        optimizer.step()\n",
    "        # update training loss\n",
    "        train_loss += loss.item()*data.size(0)\n",
    "        ## Calculating the accuracy \n",
    "        # Model's output is log-softmax, take exponential to get the probabilities\n",
    "        ps = torch.exp(output)\n",
    "        # Class with highest probability is our predicted class, compare with true label\n",
    "        equality = (target.data == ps.max(1)[1])\n",
    "        # Accuracy is number of correct predictions divided by all predictions, just take the mean\n",
    "        train_accuracy += equality.type_as(torch.FloatTensor()).mean()\n",
    "    ##################    \n",
    "    # test the model #\n",
    "    ##################\n",
    "    model.eval()\n",
    "    for data, target in valid_loader:\n",
    "        # move tensors to GPU if CUDA is available\n",
    "        if train_on_gpu:\n",
    "            data, target = data.cuda(), target.cuda()\n",
    "        # forward pass: compute predicted outputs by passing inputs to the model\n",
    "        output = model(data)\n",
    "        # calculate the batch loss\n",
    "        loss = criterion(output, target)\n",
    "        # update average validation loss \n",
    "        valid_loss += loss.item()*data.size(0)\n",
    "        \n",
    "        ## Calculating the accuracy \n",
    "        # Model's output is log-softmax, take exponential to get the probabilities\n",
    "        ps = torch.exp(output)\n",
    "        # Class with highest probability is our predicted class, compare with true label\n",
    "        equality = (target.data == ps.max(1)[1])\n",
    "        # Accuracy is number of correct predictions divided by all predictions, just take the mean\n",
    "        test_accuracy += equality.type_as(torch.FloatTensor()).mean()\n",
    "    # calculate average losses\n",
    "    train_loss = train_loss/len(train_loader.dataset)\n",
    "    valid_loss = valid_loss/len(valid_loader.dataset)\n",
    "        \n",
    "    # print training/test statistics \n",
    "    print('Epoch: {} \\tTraining Loss: {:.6f} \\tTest Loss: {:.6f} \\tTraining Accuracy: {:.6f} \\tTest Accuracy: {:.6f}'.format(\n",
    "        epoch, train_loss, valid_loss,train_accuracy/len(train_loader),test_accuracy/len(valid_loader)))\n",
    "    "
   ]
  },
  {
   "cell_type": "markdown",
   "metadata": {
    "colab_type": "text",
    "id": "bC_0knT5vjBf"
   },
   "source": [
    "## Save the checkpoint\n",
    "\n",
    "Now that your network is trained, save the model so you can load it later for making predictions. You probably want to save other things such as the mapping of classes to indices which you get from one of the image datasets: `image_datasets['train'].class_to_idx`. You can attach this to the model as an attribute which makes inference easier later on.\n",
    "\n",
    "```model.class_to_idx = image_datasets['train'].class_to_idx```\n",
    "\n",
    "Remember that you'll want to completely rebuild the model later so you can use it for inference. Make sure to include any information you need in the checkpoint. If you want to load the model and keep training, you'll want to save the number of epochs as well as the optimizer state, `optimizer.state_dict`. You'll likely want to use this trained model in the next part of the project, so best to save it now."
   ]
  },
  {
   "cell_type": "code",
   "execution_count": 0,
   "metadata": {
    "colab": {},
    "colab_type": "code",
    "id": "lTIVJ4V5vjBg"
   },
   "outputs": [],
   "source": [
    "# Save the checkpoint \n",
    "from google.colab import files\n",
    "model.to('cpu')\n",
    "#model.class_to_idx = image_datasets_train.class_to_idx\n",
    "torch.save(model.state_dict(), 'checkpoint.pth')\n",
    "#files.download('checkpoint.pth')"
   ]
  },
  {
   "cell_type": "markdown",
   "metadata": {
    "colab_type": "text",
    "id": "HF9E92CYvjBj"
   },
   "source": [
    "## Loading the checkpoint\n",
    "\n",
    "At this point it's good to write a function that can load a checkpoint and rebuild the model. That way you can come back to this project and keep working on it without having to retrain the network."
   ]
  },
  {
   "cell_type": "code",
   "execution_count": 25,
   "metadata": {
    "colab": {
     "base_uri": "https://localhost:8080/",
     "height": 599
    },
    "colab_type": "code",
    "id": "z0nlHcDZvjBl",
    "outputId": "2cbaa815-6cd3-4399-91a3-0cf40b8bec12"
   },
   "outputs": [
    {
     "name": "stdout",
     "output_type": "stream",
     "text": [
      "VGG(\n",
      "  (features): Sequential(\n",
      "    (0): Conv2d(3, 64, kernel_size=(3, 3), stride=(1, 1), padding=(1, 1))\n",
      "    (1): ReLU(inplace)\n",
      "    (2): MaxPool2d(kernel_size=2, stride=2, padding=0, dilation=1, ceil_mode=False)\n",
      "    (3): Conv2d(64, 128, kernel_size=(3, 3), stride=(1, 1), padding=(1, 1))\n",
      "    (4): ReLU(inplace)\n",
      "    (5): MaxPool2d(kernel_size=2, stride=2, padding=0, dilation=1, ceil_mode=False)\n",
      "    (6): Conv2d(128, 256, kernel_size=(3, 3), stride=(1, 1), padding=(1, 1))\n",
      "    (7): ReLU(inplace)\n",
      "    (8): Conv2d(256, 256, kernel_size=(3, 3), stride=(1, 1), padding=(1, 1))\n",
      "    (9): ReLU(inplace)\n",
      "    (10): MaxPool2d(kernel_size=2, stride=2, padding=0, dilation=1, ceil_mode=False)\n",
      "    (11): Conv2d(256, 512, kernel_size=(3, 3), stride=(1, 1), padding=(1, 1))\n",
      "    (12): ReLU(inplace)\n",
      "    (13): Conv2d(512, 512, kernel_size=(3, 3), stride=(1, 1), padding=(1, 1))\n",
      "    (14): ReLU(inplace)\n",
      "    (15): MaxPool2d(kernel_size=2, stride=2, padding=0, dilation=1, ceil_mode=False)\n",
      "    (16): Conv2d(512, 512, kernel_size=(3, 3), stride=(1, 1), padding=(1, 1))\n",
      "    (17): ReLU(inplace)\n",
      "    (18): Conv2d(512, 512, kernel_size=(3, 3), stride=(1, 1), padding=(1, 1))\n",
      "    (19): ReLU(inplace)\n",
      "    (20): MaxPool2d(kernel_size=2, stride=2, padding=0, dilation=1, ceil_mode=False)\n",
      "  )\n",
      "  (classifier): Sequential(\n",
      "    (fc1): Linear(in_features=25088, out_features=1000, bias=True)\n",
      "    (relu): ReLU()\n",
      "    (dropout): Dropout(p=0.35)\n",
      "    (fc2): Linear(in_features=1000, out_features=102, bias=True)\n",
      "    (output): LogSoftmax()\n",
      "  )\n",
      ")\n"
     ]
    }
   ],
   "source": [
    "# Writing a function that loads a checkpoint and rebuilds the model\n",
    "state_dict = torch.load('checkpoint.pth')\n",
    "model.load_state_dict(state_dict)\n",
    "print(model)"
   ]
  },
  {
   "cell_type": "markdown",
   "metadata": {
    "colab_type": "text",
    "id": "zDRXYVaHvjBr"
   },
   "source": [
    "# Inference for classification\n",
    "\n",
    "Now you'll write a function to use a trained network for inference. That is, you'll pass an image into the network and predict the class of the flower in the image. Write a function called `predict` that takes an image and a model, then returns the top $K$ most likely classes along with the probabilities. It should look like \n",
    "\n",
    "```python\n",
    "probs, classes = predict(image_path, model)\n",
    "print(probs)\n",
    "print(classes)\n",
    "> [ 0.01558163  0.01541934  0.01452626  0.01443549  0.01407339]\n",
    "> ['70', '3', '45', '62', '55']\n",
    "```\n",
    "\n",
    "First you'll need to handle processing the input image such that it can be used in your network. \n",
    "\n",
    "## Image Preprocessing\n",
    "\n",
    "You'll want to use `PIL` to load the image ([documentation](https://pillow.readthedocs.io/en/latest/reference/Image.html)). It's best to write a function that preprocesses the image so it can be used as input for the model. This function should process the images in the same manner used for training. \n",
    "\n",
    "First, resize the images where the shortest side is 256 pixels, keeping the aspect ratio. This can be done with the [`thumbnail`](http://pillow.readthedocs.io/en/3.1.x/reference/Image.html#PIL.Image.Image.thumbnail) or [`resize`](http://pillow.readthedocs.io/en/3.1.x/reference/Image.html#PIL.Image.Image.thumbnail) methods. Then you'll need to crop out the center 224x224 portion of the image.\n",
    "\n",
    "Color channels of images are typically encoded as integers 0-255, but the model expected floats 0-1. You'll need to convert the values. It's easiest with a Numpy array, which you can get from a PIL image like so `np_image = np.array(pil_image)`.\n",
    "\n",
    "As before, the network expects the images to be normalized in a specific way. For the means, it's `[0.485, 0.456, 0.406]` and for the standard deviations `[0.229, 0.224, 0.225]`. You'll want to subtract the means from each color channel, then divide by the standard deviation. \n",
    "\n",
    "And finally, PyTorch expects the color channel to be the first dimension but it's the third dimension in the PIL image and Numpy array. You can reorder dimensions using [`ndarray.transpose`](https://docs.scipy.org/doc/numpy-1.13.0/reference/generated/numpy.ndarray.transpose.html). The color channel needs to be first and retain the order of the other two dimensions."
   ]
  },
  {
   "cell_type": "code",
   "execution_count": 0,
   "metadata": {
    "colab": {},
    "colab_type": "code",
    "id": "xbeVaK3kvjBs"
   },
   "outputs": [],
   "source": [
    "from PIL import Image\n",
    "def process_image(image):\n",
    "    ''' Scales, crops, and normalizes a PIL image for a PyTorch model,\n",
    "        returns an Numpy array\n",
    "    '''\n",
    "    \n",
    "    # Process a PIL image for use in a PyTorch model\n",
    "    img_p = Image.open(image)\n",
    "   \n",
    "    trans = transforms.Compose([\n",
    "        transforms.Resize(256),\n",
    "        transforms.CenterCrop(224),\n",
    "        transforms.ToTensor(),\n",
    "        transforms.Normalize(mean=[0.485, 0.456, 0.406], std=[0.229, 0.224, 0.225])\n",
    "    ])\n",
    "    \n",
    "    img = trans(img_p)\n",
    "    \n",
    "    return img"
   ]
  },
  {
   "cell_type": "markdown",
   "metadata": {
    "colab_type": "text",
    "id": "rbYxzBBDvjBw"
   },
   "source": [
    "To check your work, the function below converts a PyTorch tensor and displays it in the notebook. If your `process_image` function works, running the output through this function should return the original image (except for the cropped out portions)."
   ]
  },
  {
   "cell_type": "code",
   "execution_count": 0,
   "metadata": {
    "colab": {},
    "colab_type": "code",
    "id": "YSE7tpXZvjBx"
   },
   "outputs": [],
   "source": [
    "def imshow(image, ax=None, title=None):\n",
    "    \"\"\"Imshow for Tensor.\"\"\"\n",
    "    if ax is None:\n",
    "        fig, ax = plt.subplots()\n",
    "    \n",
    "    # PyTorch tensors assume the color channel is the first dimension\n",
    "    # but matplotlib assumes is the third dimension\n",
    "    image = image.numpy().transpose((1, 2, 0))\n",
    "    \n",
    "    # Undo preprocessing\n",
    "    mean = np.array([0.485, 0.456, 0.406])\n",
    "    std = np.array([0.229, 0.224, 0.225])\n",
    "    image = std * image + mean\n",
    "    \n",
    "    # Image needs to be clipped between 0 and 1 or it looks like noise when displayed\n",
    "    image = np.clip(image, 0, 1)\n",
    "    \n",
    "    ax.imshow(image)\n",
    "    \n",
    "    return ax"
   ]
  },
  {
   "cell_type": "markdown",
   "metadata": {
    "colab_type": "text",
    "id": "UPBiMwjkvjB0"
   },
   "source": [
    "## Class Prediction\n",
    "\n",
    "Once you can get images in the correct format, it's time to write a function for making predictions with your model. A common practice is to predict the top 5 or so (usually called top-$K$) most probable classes. You'll want to calculate the class probabilities then find the $K$ largest values.\n",
    "\n",
    "To get the top $K$ largest values in a tensor use [`x.topk(k)`](http://pytorch.org/docs/master/torch.html#torch.topk). This method returns both the highest `k` probabilities and the indices of those probabilities corresponding to the classes. You need to convert from these indices to the actual class labels using `class_to_idx` which hopefully you added to the model or from an `ImageFolder` you used to load the data ([see here](#Save-the-checkpoint)). Make sure to invert the dictionary so you get a mapping from index to class as well.\n",
    "\n",
    "Again, this method should take a path to an image and a model checkpoint, then return the probabilities and classes.\n",
    "\n",
    "```python\n",
    "probs, classes = predict(image_path, model)\n",
    "print(probs)\n",
    "print(classes)\n",
    "> [ 0.01558163  0.01541934  0.01452626  0.01443549  0.01407339]\n",
    "> ['70', '3', '45', '62', '55']\n",
    "```"
   ]
  },
  {
   "cell_type": "code",
   "execution_count": 0,
   "metadata": {
    "colab": {},
    "colab_type": "code",
    "id": "JXN_EgwrvjB1"
   },
   "outputs": [],
   "source": [
    "def predict(image_path, model, topk=5):\n",
    "    ''' Predict the class (or classes) of an image using a trained deep learning model.\n",
    "    '''\n",
    "    \n",
    "    # Implement the code to predict the class from an image file\n",
    "    model.to('cpu')\n",
    "    img = process_image(image_path)\n",
    "    img = img.unsqueeze_(0)\n",
    "    img = img.float()\n",
    "    \n",
    "    with torch.no_grad():\n",
    "        output = model.forward(img)\n",
    "        \n",
    "    prob = F.softmax(output.data,dim=1)\n",
    "    \n",
    "    return prob.topk(topk)"
   ]
  },
  {
   "cell_type": "markdown",
   "metadata": {
    "colab_type": "text",
    "id": "rPoegaKSvjB4"
   },
   "source": [
    "## Sanity Checking\n",
    "\n",
    "Now that you can use a trained model for predictions, check to make sure it makes sense. Even if the validation accuracy is high, it's always good to check that there aren't obvious bugs. Use `matplotlib` to plot the probabilities for the top 5 classes as a bar graph, along with the input image. It should look like this:\n",
    "\n",
    "<img src='https://github.com/udacity/pytorch_challenge/blob/master/assets/inference_example.png?raw=1' width=300px>\n",
    "\n",
    "You can convert from the class integer encoding to actual flower names with the `cat_to_name.json` file (should have been loaded earlier in the notebook). To show a PyTorch tensor as an image, use the `imshow` function defined above."
   ]
  },
  {
   "cell_type": "code",
   "execution_count": 29,
   "metadata": {
    "colab": {
     "base_uri": "https://localhost:8080/",
     "height": 385
    },
    "colab_type": "code",
    "id": "Kgg3XleFvjB4",
    "outputId": "79f85a02-0dc8-4b5d-83e8-62629613171d"
   },
   "outputs": [
    {
     "data": {
      "image/png": "[encoded data removed]",
      "text/plain": [
       "<Figure size 720x360 with 1 Axes>"
      ]
     },
     "metadata": {
      "tags": []
     },
     "output_type": "display_data"
    },
    {
     "data": {
      "image/png": "[encoded data removed]",
      "text/plain": [
       "<Figure size 576x216 with 1 Axes>"
      ]
     },
     "metadata": {
      "tags": []
     },
     "output_type": "display_data"
    }
   ],
   "source": [
    "# TODO: Display an image along with the top 5 classes\n",
    "import matplotlib.pyplot as plt\n",
    "from matplotlib.ticker import FormatStrFormatter\n",
    "\n",
    "plt.rcParams[\"figure.figsize\"] = (10,5)\n",
    "plt.subplot(211)\n",
    "    \n",
    "index = 1\n",
    "path = valid_dir + '/1/image_06769.jpg'\n",
    "\n",
    "probabilities = predict(path, model)\n",
    "image = process_image(path)\n",
    "\n",
    "\n",
    "axs = imshow(image, ax = plt)\n",
    "axs.axis('off')\n",
    "axs.title(cat_to_name[str(index)])\n",
    "axs.show()\n",
    "    \n",
    "    \n",
    "a = np.array(probabilities[0][0])\n",
    "b = [cat_to_name[str(index + 1)] for index in np.array(probabilities[1][0])]\n",
    "    \n",
    "    \n",
    "N=float(len(b))\n",
    "fig,ax = plt.subplots(figsize=(8,3))\n",
    "tickLocations = np.arange(N)\n",
    "ax.bar(tickLocations, a, linewidth=4.0, align = 'center')\n",
    "ax.set_xticks(ticks = tickLocations)\n",
    "ax.set_xticklabels(b)\n",
    "ax.set_xlim(min(tickLocations)-0.6,max(tickLocations)+0.6)\n",
    "ax.set_yticks([0.2,0.4,0.6,0.8,1,1.2])\n",
    "ax.set_ylim((0,1))\n",
    "ax.yaxis.grid(True)\n",
    "ax.yaxis.set_major_formatter(FormatStrFormatter('%.2f'))\n",
    "\n",
    "plt.show()\n"
   ]
  },
  {
   "cell_type": "code",
   "execution_count": 30,
   "metadata": {
    "colab": {
     "base_uri": "https://localhost:8080/",
     "height": 1872
    },
    "colab_type": "code",
    "id": "IYF1Ivnkwh_v",
    "outputId": "56be0528-52f8-4ba8-ef2d-2a6c7358a262"
   },
   "outputs": [
    {
     "data": {
      "text/plain": [
       "{'1': 'pink primrose',\n",
       " '10': 'globe thistle',\n",
       " '100': 'blanket flower',\n",
       " '101': 'trumpet creeper',\n",
       " '102': 'blackberry lily',\n",
       " '11': 'snapdragon',\n",
       " '12': \"colt's foot\",\n",
       " '13': 'king protea',\n",
       " '14': 'spear thistle',\n",
       " '15': 'yellow iris',\n",
       " '16': 'globe-flower',\n",
       " '17': 'purple coneflower',\n",
       " '18': 'peruvian lily',\n",
       " '19': 'balloon flower',\n",
       " '2': 'hard-leaved pocket orchid',\n",
       " '20': 'giant white arum lily',\n",
       " '21': 'fire lily',\n",
       " '22': 'pincushion flower',\n",
       " '23': 'fritillary',\n",
       " '24': 'red ginger',\n",
       " '25': 'grape hyacinth',\n",
       " '26': 'corn poppy',\n",
       " '27': 'prince of wales feathers',\n",
       " '28': 'stemless gentian',\n",
       " '29': 'artichoke',\n",
       " '3': 'canterbury bells',\n",
       " '30': 'sweet william',\n",
       " '31': 'carnation',\n",
       " '32': 'garden phlox',\n",
       " '33': 'love in the mist',\n",
       " '34': 'mexican aster',\n",
       " '35': 'alpine sea holly',\n",
       " '36': 'ruby-lipped cattleya',\n",
       " '37': 'cape flower',\n",
       " '38': 'great masterwort',\n",
       " '39': 'siam tulip',\n",
       " '4': 'sweet pea',\n",
       " '40': 'lenten rose',\n",
       " '41': 'barbeton daisy',\n",
       " '42': 'daffodil',\n",
       " '43': 'sword lily',\n",
       " '44': 'poinsettia',\n",
       " '45': 'bolero deep blue',\n",
       " '46': 'wallflower',\n",
       " '47': 'marigold',\n",
       " '48': 'buttercup',\n",
       " '49': 'oxeye daisy',\n",
       " '5': 'english marigold',\n",
       " '50': 'common dandelion',\n",
       " '51': 'petunia',\n",
       " '52': 'wild pansy',\n",
       " '53': 'primula',\n",
       " '54': 'sunflower',\n",
       " '55': 'pelargonium',\n",
       " '56': 'bishop of llandaff',\n",
       " '57': 'gaura',\n",
       " '58': 'geranium',\n",
       " '59': 'orange dahlia',\n",
       " '6': 'tiger lily',\n",
       " '60': 'pink-yellow dahlia',\n",
       " '61': 'cautleya spicata',\n",
       " '62': 'japanese anemone',\n",
       " '63': 'black-eyed susan',\n",
       " '64': 'silverbush',\n",
       " '65': 'californian poppy',\n",
       " '66': 'osteospermum',\n",
       " '67': 'spring crocus',\n",
       " '68': 'bearded iris',\n",
       " '69': 'windflower',\n",
       " '7': 'moon orchid',\n",
       " '70': 'tree poppy',\n",
       " '71': 'gazania',\n",
       " '72': 'azalea',\n",
       " '73': 'water lily',\n",
       " '74': 'rose',\n",
       " '75': 'thorn apple',\n",
       " '76': 'morning glory',\n",
       " '77': 'passion flower',\n",
       " '78': 'lotus lotus',\n",
       " '79': 'toad lily',\n",
       " '8': 'bird of paradise',\n",
       " '80': 'anthurium',\n",
       " '81': 'frangipani',\n",
       " '82': 'clematis',\n",
       " '83': 'hibiscus',\n",
       " '84': 'columbine',\n",
       " '85': 'desert-rose',\n",
       " '86': 'tree mallow',\n",
       " '87': 'magnolia',\n",
       " '88': 'cyclamen',\n",
       " '89': 'watercress',\n",
       " '9': 'monkshood',\n",
       " '90': 'canna lily',\n",
       " '91': 'hippeastrum',\n",
       " '92': 'bee balm',\n",
       " '93': 'ball moss',\n",
       " '94': 'foxglove',\n",
       " '95': 'bougainvillea',\n",
       " '96': 'camellia',\n",
       " '97': 'mallow',\n",
       " '98': 'mexican petunia',\n",
       " '99': 'bromelia'}"
      ]
     },
     "execution_count": 30,
     "metadata": {
      "tags": []
     },
     "output_type": "execute_result"
    }
   ],
   "source": [
    "# Classes of flowers\n",
    "cat_to_name"
   ]
  },
  {
   "cell_type": "code",
   "execution_count": 0,
   "metadata": {
    "colab": {},
    "colab_type": "code",
    "id": "YhBH_myti_b9"
   },
   "outputs": [],
   "source": []
  }
 ],
 "metadata": {
  "accelerator": "GPU",
  "colab": {
   "collapsed_sections": [],
   "name": "Copy of Image Classifier Project.ipynb",
   "provenance": [],
   "version": "0.3.2"
  },
  "kernelspec": {
   "display_name": "Python 3",
   "language": "python",
   "name": "python3"
  },
  "language_info": {
   "codemirror_mode": {
    "name": "ipython",
    "version": 3
   },
   "file_extension": ".py",
   "mimetype": "text/x-python",
   "name": "python",
   "nbconvert_exporter": "python",
   "pygments_lexer": "ipython3",
   "version": "3.7.0"
  }
 },
 "nbformat": 4,
 "nbformat_minor": 1
}
